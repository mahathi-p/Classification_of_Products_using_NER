{
 "cells": [
  {
   "cell_type": "code",
   "execution_count": 1,
   "metadata": {},
   "outputs": [],
   "source": [
    "import pandas as pd\n",
    "import numpy as np"
   ]
  },
  {
   "cell_type": "code",
   "execution_count": 2,
   "metadata": {},
   "outputs": [],
   "source": [
    "data = pd.read_csv(\"csvfiles/catalogue_harddisk1.csv\")"
   ]
  },
  {
   "cell_type": "code",
   "execution_count": 3,
   "metadata": {},
   "outputs": [],
   "source": [
    "data.head()\n",
    "data = data.drop(columns = ['Unnamed: 3','Unnamed: 4','Unnamed: 5'])"
   ]
  },
  {
   "cell_type": "code",
   "execution_count": 4,
   "metadata": {},
   "outputs": [
    {
     "data": {
      "text/html": [
       "<div>\n",
       "<style scoped>\n",
       "    .dataframe tbody tr th:only-of-type {\n",
       "        vertical-align: middle;\n",
       "    }\n",
       "\n",
       "    .dataframe tbody tr th {\n",
       "        vertical-align: top;\n",
       "    }\n",
       "\n",
       "    .dataframe thead th {\n",
       "        text-align: right;\n",
       "    }\n",
       "</style>\n",
       "<table border=\"1\" class=\"dataframe\">\n",
       "  <thead>\n",
       "    <tr style=\"text-align: right;\">\n",
       "      <th></th>\n",
       "      <th>ProductName</th>\n",
       "      <th>Type</th>\n",
       "      <th>Capacity</th>\n",
       "      <th>Connectivity</th>\n",
       "      <th>Category</th>\n",
       "    </tr>\n",
       "  </thead>\n",
       "  <tbody>\n",
       "    <tr>\n",
       "      <th>0</th>\n",
       "      <td>Seagate Expansion Portable HDD - USB 3.0 for P...</td>\n",
       "      <td>Portable Hard Drive</td>\n",
       "      <td>1.5 TB</td>\n",
       "      <td>USB 3.0 USB 2.0</td>\n",
       "      <td>HardDisk</td>\n",
       "    </tr>\n",
       "    <tr>\n",
       "      <th>1</th>\n",
       "      <td>WD My Passport 1 TB External Hard Disk Drive</td>\n",
       "      <td>Portable Hard Drive</td>\n",
       "      <td>1 TB</td>\n",
       "      <td>USB 2.0 USB 3.0</td>\n",
       "      <td>HardDisk</td>\n",
       "    </tr>\n",
       "    <tr>\n",
       "      <th>2</th>\n",
       "      <td>WD Elements 1 TB Wired External Hard Disk Drive</td>\n",
       "      <td>Portable Hard Drive</td>\n",
       "      <td>1 TB</td>\n",
       "      <td>USB 3.0 USB 2.0</td>\n",
       "      <td>HardDisk</td>\n",
       "    </tr>\n",
       "    <tr>\n",
       "      <th>3</th>\n",
       "      <td>Seagate Backup Plus Slim 1 TB External Hard Di...</td>\n",
       "      <td>Portable Hard Drive</td>\n",
       "      <td>1 TB</td>\n",
       "      <td>USB 3.0 USB 2.0</td>\n",
       "      <td>HardDisk</td>\n",
       "    </tr>\n",
       "    <tr>\n",
       "      <th>4</th>\n",
       "      <td>Seagate Backup Plus Slim 1 TB External Hard Di...</td>\n",
       "      <td>Portable Hard Drive</td>\n",
       "      <td>1 TB</td>\n",
       "      <td>USB 3.0 USB 2.0</td>\n",
       "      <td>HardDisk</td>\n",
       "    </tr>\n",
       "  </tbody>\n",
       "</table>\n",
       "</div>"
      ],
      "text/plain": [
       "                                         ProductName                 Type  \\\n",
       "0  Seagate Expansion Portable HDD - USB 3.0 for P...  Portable Hard Drive   \n",
       "1       WD My Passport 1 TB External Hard Disk Drive  Portable Hard Drive   \n",
       "2    WD Elements 1 TB Wired External Hard Disk Drive  Portable Hard Drive   \n",
       "3  Seagate Backup Plus Slim 1 TB External Hard Di...  Portable Hard Drive   \n",
       "4  Seagate Backup Plus Slim 1 TB External Hard Di...  Portable Hard Drive   \n",
       "\n",
       "  Capacity      Connectivity  Category  \n",
       "0   1.5 TB   USB 3.0 USB 2.0  HardDisk  \n",
       "1     1 TB   USB 2.0 USB 3.0  HardDisk  \n",
       "2     1 TB   USB 3.0 USB 2.0  HardDisk  \n",
       "3     1 TB   USB 3.0 USB 2.0  HardDisk  \n",
       "4     1 TB   USB 3.0 USB 2.0  HardDisk  "
      ]
     },
     "execution_count": 4,
     "metadata": {},
     "output_type": "execute_result"
    }
   ],
   "source": [
    "## \n",
    "#data['Type'] = data['Type'].map(lambda x: x.rstrip('Hard Drive'))\n",
    "\n",
    "data['Capacity'] = data['Capacity'].map(lambda x: x.lstrip('Capacity:'))\n",
    "data['Connectivity'] = data['Connectivity'].map(lambda x: x.lstrip('Connectivity:'))\n",
    "\n",
    "data.head()"
   ]
  },
  {
   "cell_type": "code",
   "execution_count": 5,
   "metadata": {},
   "outputs": [
    {
     "data": {
      "text/plain": [
       "0     Seagate Expansion Portable HDD - USB 3.0 for P...\n",
       "1          WD My Passport 1 TB External Hard Disk Drive\n",
       "2       WD Elements 1 TB Wired External Hard Disk Drive\n",
       "3     Seagate Backup Plus Slim 1 TB External Hard Di...\n",
       "4     Seagate Backup Plus Slim 1 TB External Hard Di...\n",
       "                            ...                        \n",
       "90              ADATA 256 GB External Solid State Drive\n",
       "91         Sony 128 GB Wired External Solid State Drive\n",
       "92               Verbatim 1 TB External Hard Disk Drive\n",
       "93            ADATA HD720 1 TB External Hard Disk Drive\n",
       "94        WESTERN DIGITAL 1 TB External Hard Disk Drive\n",
       "Name: ProductName, Length: 95, dtype: object"
      ]
     },
     "execution_count": 5,
     "metadata": {},
     "output_type": "execute_result"
    }
   ],
   "source": [
    "## Scraped Product Name containing the Brand, Model and features all together\n",
    "prodName = data.ProductName\n",
    "prodName"
   ]
  },
  {
   "cell_type": "code",
   "execution_count": 6,
   "metadata": {},
   "outputs": [
    {
     "data": {
      "text/plain": [
       "0     [Seagate, Expansion Portable HDD - USB 3.0 for...\n",
       "1       [WD, My Passport 1 TB External Hard Disk Drive]\n",
       "2     [WD, Elements 1 TB Wired External Hard Disk Dr...\n",
       "3     [Seagate, Backup Plus Slim 1 TB External Hard ...\n",
       "4     [Seagate, Backup Plus Slim 1 TB External Hard ...\n",
       "                            ...                        \n",
       "90           [ADATA, 256 GB External Solid State Drive]\n",
       "91      [Sony, 128 GB Wired External Solid State Drive]\n",
       "92            [Verbatim, 1 TB External Hard Disk Drive]\n",
       "93         [ADATA, HD720 1 TB External Hard Disk Drive]\n",
       "94     [WESTERN, DIGITAL 1 TB External Hard Disk Drive]\n",
       "Name: ProductName, Length: 95, dtype: object"
      ]
     },
     "execution_count": 6,
     "metadata": {},
     "output_type": "execute_result"
    }
   ],
   "source": [
    "## Splitting the brand from the Product Name (it is the first string in the Product Name)\n",
    "brand = prodName.str.split(' ',1)\n",
    "brand"
   ]
  },
  {
   "cell_type": "code",
   "execution_count": 7,
   "metadata": {},
   "outputs": [
    {
     "data": {
      "text/plain": [
       "0      Seagate\n",
       "1           WD\n",
       "2           WD\n",
       "3      Seagate\n",
       "4      Seagate\n",
       "        ...   \n",
       "90       ADATA\n",
       "91        Sony\n",
       "92    Verbatim\n",
       "93       ADATA\n",
       "94     WESTERN\n",
       "Name: ProductName, Length: 95, dtype: object"
      ]
     },
     "execution_count": 7,
     "metadata": {},
     "output_type": "execute_result"
    }
   ],
   "source": [
    "brands = brand.loc[:].map(lambda x: x[0])\n",
    "brands"
   ]
  },
  {
   "cell_type": "code",
   "execution_count": 8,
   "metadata": {},
   "outputs": [
    {
     "data": {
      "text/html": [
       "<div>\n",
       "<style scoped>\n",
       "    .dataframe tbody tr th:only-of-type {\n",
       "        vertical-align: middle;\n",
       "    }\n",
       "\n",
       "    .dataframe tbody tr th {\n",
       "        vertical-align: top;\n",
       "    }\n",
       "\n",
       "    .dataframe thead th {\n",
       "        text-align: right;\n",
       "    }\n",
       "</style>\n",
       "<table border=\"1\" class=\"dataframe\">\n",
       "  <thead>\n",
       "    <tr style=\"text-align: right;\">\n",
       "      <th></th>\n",
       "      <th>Brand</th>\n",
       "      <th>Type</th>\n",
       "      <th>Capacity</th>\n",
       "      <th>Connectivity</th>\n",
       "      <th>Category</th>\n",
       "    </tr>\n",
       "  </thead>\n",
       "  <tbody>\n",
       "    <tr>\n",
       "      <th>0</th>\n",
       "      <td>Seagate</td>\n",
       "      <td>Portable Hard Drive</td>\n",
       "      <td>1.5 TB</td>\n",
       "      <td>USB 3.0 USB 2.0</td>\n",
       "      <td>HardDisk</td>\n",
       "    </tr>\n",
       "    <tr>\n",
       "      <th>1</th>\n",
       "      <td>WD</td>\n",
       "      <td>Portable Hard Drive</td>\n",
       "      <td>1 TB</td>\n",
       "      <td>USB 2.0 USB 3.0</td>\n",
       "      <td>HardDisk</td>\n",
       "    </tr>\n",
       "    <tr>\n",
       "      <th>2</th>\n",
       "      <td>WD</td>\n",
       "      <td>Portable Hard Drive</td>\n",
       "      <td>1 TB</td>\n",
       "      <td>USB 3.0 USB 2.0</td>\n",
       "      <td>HardDisk</td>\n",
       "    </tr>\n",
       "    <tr>\n",
       "      <th>3</th>\n",
       "      <td>Seagate</td>\n",
       "      <td>Portable Hard Drive</td>\n",
       "      <td>1 TB</td>\n",
       "      <td>USB 3.0 USB 2.0</td>\n",
       "      <td>HardDisk</td>\n",
       "    </tr>\n",
       "    <tr>\n",
       "      <th>4</th>\n",
       "      <td>Seagate</td>\n",
       "      <td>Portable Hard Drive</td>\n",
       "      <td>1 TB</td>\n",
       "      <td>USB 3.0 USB 2.0</td>\n",
       "      <td>HardDisk</td>\n",
       "    </tr>\n",
       "  </tbody>\n",
       "</table>\n",
       "</div>"
      ],
      "text/plain": [
       "     Brand                 Type Capacity      Connectivity  Category\n",
       "0  Seagate  Portable Hard Drive   1.5 TB   USB 3.0 USB 2.0  HardDisk\n",
       "1       WD  Portable Hard Drive     1 TB   USB 2.0 USB 3.0  HardDisk\n",
       "2       WD  Portable Hard Drive     1 TB   USB 3.0 USB 2.0  HardDisk\n",
       "3  Seagate  Portable Hard Drive     1 TB   USB 3.0 USB 2.0  HardDisk\n",
       "4  Seagate  Portable Hard Drive     1 TB   USB 3.0 USB 2.0  HardDisk"
      ]
     },
     "execution_count": 8,
     "metadata": {},
     "output_type": "execute_result"
    }
   ],
   "source": [
    "## Inserting the Brand and Model as separate columns and deleting the original Product Name\n",
    "data = data.drop(columns = 'ProductName')\n",
    "data.insert(0, \"Brand\", brands, True) \n",
    "\n",
    "data.head()"
   ]
  },
  {
   "cell_type": "code",
   "execution_count": 9,
   "metadata": {},
   "outputs": [],
   "source": [
    "data.to_csv(\"cleanedfiles/final_harddrisk.csv\")"
   ]
  },
  {
   "cell_type": "code",
   "execution_count": null,
   "metadata": {},
   "outputs": [],
   "source": []
  }
 ],
 "metadata": {
  "kernelspec": {
   "display_name": "Python 3",
   "language": "python",
   "name": "python3"
  },
  "language_info": {
   "codemirror_mode": {
    "name": "ipython",
    "version": 3
   },
   "file_extension": ".py",
   "mimetype": "text/x-python",
   "name": "python",
   "nbconvert_exporter": "python",
   "pygments_lexer": "ipython3",
   "version": "3.8.1"
  }
 },
 "nbformat": 4,
 "nbformat_minor": 4
}
