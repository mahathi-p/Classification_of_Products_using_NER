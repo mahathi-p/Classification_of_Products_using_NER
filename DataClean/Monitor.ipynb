{
 "cells": [
  {
   "cell_type": "markdown",
   "metadata": {},
   "source": [
    "### 1. Importing Libraries"
   ]
  },
  {
   "cell_type": "code",
   "execution_count": 1,
   "metadata": {},
   "outputs": [],
   "source": [
    "import pandas as pd\n",
    "import numpy as np"
   ]
  },
  {
   "cell_type": "code",
   "execution_count": 2,
   "metadata": {},
   "outputs": [],
   "source": [
    "## Reading the scraped laptop data with appropriate column names\n",
    "col_names = ['ProductName' , 'DisplayType' , 'Dim' , 'RespTime' , 'HDMI' , 'Category']\n",
    "data  = pd.read_csv(\"csvfiles/catalogue_monitor1.csv\",names = col_names,index_col = False)"
   ]
  },
  {
   "cell_type": "code",
   "execution_count": 3,
   "metadata": {},
   "outputs": [
    {
     "data": {
      "text/html": [
       "<div>\n",
       "<style scoped>\n",
       "    .dataframe tbody tr th:only-of-type {\n",
       "        vertical-align: middle;\n",
       "    }\n",
       "\n",
       "    .dataframe tbody tr th {\n",
       "        vertical-align: top;\n",
       "    }\n",
       "\n",
       "    .dataframe thead th {\n",
       "        text-align: right;\n",
       "    }\n",
       "</style>\n",
       "<table border=\"1\" class=\"dataframe\">\n",
       "  <thead>\n",
       "    <tr style=\"text-align: right;\">\n",
       "      <th></th>\n",
       "      <th>ProductName</th>\n",
       "      <th>DisplayType</th>\n",
       "      <th>Dim</th>\n",
       "      <th>RespTime</th>\n",
       "      <th>HDMI</th>\n",
       "      <th>Category</th>\n",
       "    </tr>\n",
       "  </thead>\n",
       "  <tbody>\n",
       "    <tr>\n",
       "      <th>0</th>\n",
       "      <td>Lenovo 27 inch Full HD Monitor (D27-20)</td>\n",
       "      <td>Display Type: LED</td>\n",
       "      <td>68.58 cm (27 inch) Full HD Display</td>\n",
       "      <td>Response Time: 4 ms | VGA</td>\n",
       "      <td>HDMI</td>\n",
       "      <td>Monitor</td>\n",
       "    </tr>\n",
       "    <tr>\n",
       "      <th>1</th>\n",
       "      <td>HP 23.8 inch Full HD LED Backlit IPS Panel Mon...</td>\n",
       "      <td>Display Type: LED</td>\n",
       "      <td>60.45 cm (23.8 inch) Full HD Display</td>\n",
       "      <td>Response Time: 5 ms | VGA</td>\n",
       "      <td>HDMI Ports - 1</td>\n",
       "      <td>Monitor</td>\n",
       "    </tr>\n",
       "    <tr>\n",
       "      <th>2</th>\n",
       "      <td>HP 21.5 inch Full HD LED Backlit IPS Panel Mon...</td>\n",
       "      <td>Display Type: LED Backlit</td>\n",
       "      <td>54.61 cm (21.5 inch) Full HD Display</td>\n",
       "      <td>Response Time: 14 ms | VGA</td>\n",
       "      <td>HDMI Ports - 1</td>\n",
       "      <td>Monitor</td>\n",
       "    </tr>\n",
       "    <tr>\n",
       "      <th>3</th>\n",
       "      <td>Samsung 21.5 inch Full HD LED Backlit Monitor ...</td>\n",
       "      <td>Display Type: backlit led</td>\n",
       "      <td>54.61 cm (21.5 inch) Full HD Display</td>\n",
       "      <td>Response Time: 4 ms | VGA</td>\n",
       "      <td>HDMI</td>\n",
       "      <td>Monitor</td>\n",
       "    </tr>\n",
       "    <tr>\n",
       "      <th>4</th>\n",
       "      <td>LG 18.5 inch HD LED Backlit Monitor (19M38HB -...</td>\n",
       "      <td>Display Type: LED Backlit</td>\n",
       "      <td>46.99 cm (18.5 inch) HD Display</td>\n",
       "      <td>Response Time: 5 ms | VGA</td>\n",
       "      <td>HDMI Ports - 1</td>\n",
       "      <td>Monitor</td>\n",
       "    </tr>\n",
       "  </tbody>\n",
       "</table>\n",
       "</div>"
      ],
      "text/plain": [
       "                                         ProductName  \\\n",
       "0            Lenovo 27 inch Full HD Monitor (D27-20)   \n",
       "1  HP 23.8 inch Full HD LED Backlit IPS Panel Mon...   \n",
       "2  HP 21.5 inch Full HD LED Backlit IPS Panel Mon...   \n",
       "3  Samsung 21.5 inch Full HD LED Backlit Monitor ...   \n",
       "4  LG 18.5 inch HD LED Backlit Monitor (19M38HB -...   \n",
       "\n",
       "                 DisplayType                                   Dim  \\\n",
       "0          Display Type: LED    68.58 cm (27 inch) Full HD Display   \n",
       "1          Display Type: LED  60.45 cm (23.8 inch) Full HD Display   \n",
       "2  Display Type: LED Backlit  54.61 cm (21.5 inch) Full HD Display   \n",
       "3  Display Type: backlit led  54.61 cm (21.5 inch) Full HD Display   \n",
       "4  Display Type: LED Backlit       46.99 cm (18.5 inch) HD Display   \n",
       "\n",
       "                     RespTime            HDMI Category  \n",
       "0   Response Time: 4 ms | VGA            HDMI  Monitor  \n",
       "1   Response Time: 5 ms | VGA  HDMI Ports - 1  Monitor  \n",
       "2  Response Time: 14 ms | VGA  HDMI Ports - 1  Monitor  \n",
       "3   Response Time: 4 ms | VGA            HDMI  Monitor  \n",
       "4   Response Time: 5 ms | VGA  HDMI Ports - 1  Monitor  "
      ]
     },
     "execution_count": 3,
     "metadata": {},
     "output_type": "execute_result"
    }
   ],
   "source": [
    "## SAMPLE OF SCRAPED DATA\n",
    "data.head()"
   ]
  },
  {
   "cell_type": "markdown",
   "metadata": {},
   "source": [
    "### 2. Identifying Brand and Model from data"
   ]
  },
  {
   "cell_type": "code",
   "execution_count": 4,
   "metadata": {},
   "outputs": [
    {
     "data": {
      "text/plain": [
       "0                Lenovo 27 inch Full HD Monitor (D27-20)\n",
       "1      HP 23.8 inch Full HD LED Backlit IPS Panel Mon...\n",
       "2      HP 21.5 inch Full HD LED Backlit IPS Panel Mon...\n",
       "3      Samsung 21.5 inch Full HD LED Backlit Monitor ...\n",
       "4      LG 18.5 inch HD LED Backlit Monitor (19M38HB -...\n",
       "                             ...                        \n",
       "233               Dell 22 inch Full HD Monitor (E2218HN)\n",
       "234    LG 22 inch Full HD LED Backlit IPS Panel Monit...\n",
       "235    MarQ by Flipkart 23.8 inch Full HD LED Backlit...\n",
       "236    Philips 27 inch Full HD LED Backlit IPS Panel ...\n",
       "237           Lenovo 23.8 inch Full HD Monitor (Q24i-10)\n",
       "Name: ProductName, Length: 238, dtype: object"
      ]
     },
     "execution_count": 4,
     "metadata": {},
     "output_type": "execute_result"
    }
   ],
   "source": [
    "## Scraped Product Name containing the Brand, Model and features all together\n",
    "prodName = data.ProductName\n",
    "prodName"
   ]
  },
  {
   "cell_type": "code",
   "execution_count": 5,
   "metadata": {},
   "outputs": [
    {
     "data": {
      "text/plain": [
       "0             [Lenovo, 27 inch Full HD Monitor (D27-20)]\n",
       "1      [HP, 23.8 inch Full HD LED Backlit IPS Panel M...\n",
       "2      [HP, 21.5 inch Full HD LED Backlit IPS Panel M...\n",
       "3      [Samsung, 21.5 inch Full HD LED Backlit Monito...\n",
       "4      [LG, 18.5 inch HD LED Backlit Monitor (19M38HB...\n",
       "                             ...                        \n",
       "233            [Dell, 22 inch Full HD Monitor (E2218HN)]\n",
       "234    [LG, 22 inch Full HD LED Backlit IPS Panel Mon...\n",
       "235    [MarQ, by Flipkart 23.8 inch Full HD LED Backl...\n",
       "236    [Philips, 27 inch Full HD LED Backlit IPS Pane...\n",
       "237        [Lenovo, 23.8 inch Full HD Monitor (Q24i-10)]\n",
       "Name: ProductName, Length: 238, dtype: object"
      ]
     },
     "execution_count": 5,
     "metadata": {},
     "output_type": "execute_result"
    }
   ],
   "source": [
    "## Splitting the brand from the Product Name (it is the first string in the Product Name)\n",
    "brand = prodName.str.split(' ',1)\n",
    "brand"
   ]
  },
  {
   "cell_type": "code",
   "execution_count": 6,
   "metadata": {},
   "outputs": [
    {
     "data": {
      "text/plain": [
       "0       Lenovo\n",
       "1           HP\n",
       "2           HP\n",
       "3      Samsung\n",
       "4           LG\n",
       "        ...   \n",
       "233       Dell\n",
       "234         LG\n",
       "235       MarQ\n",
       "236    Philips\n",
       "237     Lenovo\n",
       "Name: ProductName, Length: 238, dtype: object"
      ]
     },
     "execution_count": 6,
     "metadata": {},
     "output_type": "execute_result"
    }
   ],
   "source": [
    "## Creating a new column with only Brand names\n",
    "brands = brand.loc[:].map(lambda x: x[0])\n",
    "brands"
   ]
  },
  {
   "cell_type": "code",
   "execution_count": 7,
   "metadata": {},
   "outputs": [
    {
     "data": {
      "text/html": [
       "<div>\n",
       "<style scoped>\n",
       "    .dataframe tbody tr th:only-of-type {\n",
       "        vertical-align: middle;\n",
       "    }\n",
       "\n",
       "    .dataframe tbody tr th {\n",
       "        vertical-align: top;\n",
       "    }\n",
       "\n",
       "    .dataframe thead th {\n",
       "        text-align: right;\n",
       "    }\n",
       "</style>\n",
       "<table border=\"1\" class=\"dataframe\">\n",
       "  <thead>\n",
       "    <tr style=\"text-align: right;\">\n",
       "      <th></th>\n",
       "      <th>Brand</th>\n",
       "      <th>DisplayType</th>\n",
       "      <th>Dim</th>\n",
       "      <th>RespTime</th>\n",
       "      <th>HDMI</th>\n",
       "      <th>Category</th>\n",
       "    </tr>\n",
       "  </thead>\n",
       "  <tbody>\n",
       "    <tr>\n",
       "      <th>0</th>\n",
       "      <td>Lenovo</td>\n",
       "      <td>Display Type: LED</td>\n",
       "      <td>68.58 cm (27 inch) Full HD Display</td>\n",
       "      <td>Response Time: 4 ms | VGA</td>\n",
       "      <td>HDMI</td>\n",
       "      <td>Monitor</td>\n",
       "    </tr>\n",
       "    <tr>\n",
       "      <th>1</th>\n",
       "      <td>HP</td>\n",
       "      <td>Display Type: LED</td>\n",
       "      <td>60.45 cm (23.8 inch) Full HD Display</td>\n",
       "      <td>Response Time: 5 ms | VGA</td>\n",
       "      <td>HDMI Ports - 1</td>\n",
       "      <td>Monitor</td>\n",
       "    </tr>\n",
       "    <tr>\n",
       "      <th>2</th>\n",
       "      <td>HP</td>\n",
       "      <td>Display Type: LED Backlit</td>\n",
       "      <td>54.61 cm (21.5 inch) Full HD Display</td>\n",
       "      <td>Response Time: 14 ms | VGA</td>\n",
       "      <td>HDMI Ports - 1</td>\n",
       "      <td>Monitor</td>\n",
       "    </tr>\n",
       "    <tr>\n",
       "      <th>3</th>\n",
       "      <td>Samsung</td>\n",
       "      <td>Display Type: backlit led</td>\n",
       "      <td>54.61 cm (21.5 inch) Full HD Display</td>\n",
       "      <td>Response Time: 4 ms | VGA</td>\n",
       "      <td>HDMI</td>\n",
       "      <td>Monitor</td>\n",
       "    </tr>\n",
       "    <tr>\n",
       "      <th>4</th>\n",
       "      <td>LG</td>\n",
       "      <td>Display Type: LED Backlit</td>\n",
       "      <td>46.99 cm (18.5 inch) HD Display</td>\n",
       "      <td>Response Time: 5 ms | VGA</td>\n",
       "      <td>HDMI Ports - 1</td>\n",
       "      <td>Monitor</td>\n",
       "    </tr>\n",
       "  </tbody>\n",
       "</table>\n",
       "</div>"
      ],
      "text/plain": [
       "     Brand                DisplayType                                   Dim  \\\n",
       "0   Lenovo          Display Type: LED    68.58 cm (27 inch) Full HD Display   \n",
       "1       HP          Display Type: LED  60.45 cm (23.8 inch) Full HD Display   \n",
       "2       HP  Display Type: LED Backlit  54.61 cm (21.5 inch) Full HD Display   \n",
       "3  Samsung  Display Type: backlit led  54.61 cm (21.5 inch) Full HD Display   \n",
       "4       LG  Display Type: LED Backlit       46.99 cm (18.5 inch) HD Display   \n",
       "\n",
       "                     RespTime            HDMI Category  \n",
       "0   Response Time: 4 ms | VGA            HDMI  Monitor  \n",
       "1   Response Time: 5 ms | VGA  HDMI Ports - 1  Monitor  \n",
       "2  Response Time: 14 ms | VGA  HDMI Ports - 1  Monitor  \n",
       "3   Response Time: 4 ms | VGA            HDMI  Monitor  \n",
       "4   Response Time: 5 ms | VGA  HDMI Ports - 1  Monitor  "
      ]
     },
     "execution_count": 7,
     "metadata": {},
     "output_type": "execute_result"
    }
   ],
   "source": [
    "## Inserting the Brand and Model as separate columns and deleting the original Product Name\n",
    "data = data.drop(columns = 'ProductName')\n",
    "data.insert(0, \"Brand\", brands, True) \n",
    "data.head()"
   ]
  },
  {
   "cell_type": "markdown",
   "metadata": {},
   "source": [
    "### 3. Standarizing and Cleaning data in columns"
   ]
  },
  {
   "cell_type": "code",
   "execution_count": 8,
   "metadata": {},
   "outputs": [
    {
     "data": {
      "text/html": [
       "<div>\n",
       "<style scoped>\n",
       "    .dataframe tbody tr th:only-of-type {\n",
       "        vertical-align: middle;\n",
       "    }\n",
       "\n",
       "    .dataframe tbody tr th {\n",
       "        vertical-align: top;\n",
       "    }\n",
       "\n",
       "    .dataframe thead th {\n",
       "        text-align: right;\n",
       "    }\n",
       "</style>\n",
       "<table border=\"1\" class=\"dataframe\">\n",
       "  <thead>\n",
       "    <tr style=\"text-align: right;\">\n",
       "      <th></th>\n",
       "      <th>Brand</th>\n",
       "      <th>DisplayType</th>\n",
       "      <th>Dim</th>\n",
       "      <th>RespTime</th>\n",
       "      <th>HDMI</th>\n",
       "      <th>Category</th>\n",
       "    </tr>\n",
       "  </thead>\n",
       "  <tbody>\n",
       "    <tr>\n",
       "      <th>0</th>\n",
       "      <td>Lenovo</td>\n",
       "      <td>LED</td>\n",
       "      <td>68.58 cm (27 inch) Full HD</td>\n",
       "      <td>4 ms</td>\n",
       "      <td>HDMI</td>\n",
       "      <td>Monitor</td>\n",
       "    </tr>\n",
       "    <tr>\n",
       "      <th>1</th>\n",
       "      <td>HP</td>\n",
       "      <td>LED</td>\n",
       "      <td>60.45 cm (23.8 inch) Full HD</td>\n",
       "      <td>5 ms</td>\n",
       "      <td>HDMI Ports - 1</td>\n",
       "      <td>Monitor</td>\n",
       "    </tr>\n",
       "    <tr>\n",
       "      <th>2</th>\n",
       "      <td>HP</td>\n",
       "      <td>LED Backlit</td>\n",
       "      <td>54.61 cm (21.5 inch) Full HD</td>\n",
       "      <td>14 ms</td>\n",
       "      <td>HDMI Ports - 1</td>\n",
       "      <td>Monitor</td>\n",
       "    </tr>\n",
       "    <tr>\n",
       "      <th>3</th>\n",
       "      <td>Samsung</td>\n",
       "      <td>backlit led</td>\n",
       "      <td>54.61 cm (21.5 inch) Full HD</td>\n",
       "      <td>4 ms</td>\n",
       "      <td>HDMI</td>\n",
       "      <td>Monitor</td>\n",
       "    </tr>\n",
       "    <tr>\n",
       "      <th>4</th>\n",
       "      <td>LG</td>\n",
       "      <td>LED Backlit</td>\n",
       "      <td>46.99 cm (18.5 inch) HD</td>\n",
       "      <td>5 ms</td>\n",
       "      <td>HDMI Ports - 1</td>\n",
       "      <td>Monitor</td>\n",
       "    </tr>\n",
       "  </tbody>\n",
       "</table>\n",
       "</div>"
      ],
      "text/plain": [
       "     Brand  DisplayType                            Dim RespTime  \\\n",
       "0   Lenovo          LED    68.58 cm (27 inch) Full HD      4 ms   \n",
       "1       HP          LED  60.45 cm (23.8 inch) Full HD      5 ms   \n",
       "2       HP  LED Backlit  54.61 cm (21.5 inch) Full HD     14 ms   \n",
       "3  Samsung  backlit led  54.61 cm (21.5 inch) Full HD      4 ms   \n",
       "4       LG  LED Backlit       46.99 cm (18.5 inch) HD      5 ms   \n",
       "\n",
       "             HDMI Category  \n",
       "0            HDMI  Monitor  \n",
       "1  HDMI Ports - 1  Monitor  \n",
       "2  HDMI Ports - 1  Monitor  \n",
       "3            HDMI  Monitor  \n",
       "4  HDMI Ports - 1  Monitor  "
      ]
     },
     "execution_count": 8,
     "metadata": {},
     "output_type": "execute_result"
    }
   ],
   "source": [
    "## DisplayType column\n",
    "data['DisplayType'] = data['DisplayType'].map(lambda x: x.lstrip('Display Type:'))\n",
    "data['RespTime'] = data['RespTime'].map(lambda x: x.lstrip('Response Time:').rstrip('| VGA'))\n",
    "data['Dim'] = data['Dim'].map(lambda x: x.rstrip('Display'))\n",
    "\n",
    "data.head()"
   ]
  },
  {
   "cell_type": "code",
   "execution_count": 9,
   "metadata": {},
   "outputs": [],
   "source": [
    "data.to_csv(\"cleanedfiles/final_monitors.csv\")"
   ]
  },
  {
   "cell_type": "code",
   "execution_count": null,
   "metadata": {},
   "outputs": [],
   "source": []
  }
 ],
 "metadata": {
  "kernelspec": {
   "display_name": "Python 3",
   "language": "python",
   "name": "python3"
  },
  "language_info": {
   "codemirror_mode": {
    "name": "ipython",
    "version": 3
   },
   "file_extension": ".py",
   "mimetype": "text/x-python",
   "name": "python",
   "nbconvert_exporter": "python",
   "pygments_lexer": "ipython3",
   "version": "3.8.1"
  }
 },
 "nbformat": 4,
 "nbformat_minor": 4
}
