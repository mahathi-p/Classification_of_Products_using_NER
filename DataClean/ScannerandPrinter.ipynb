{
 "cells": [
  {
   "cell_type": "code",
   "execution_count": 1,
   "metadata": {},
   "outputs": [],
   "source": [
    "import pandas as pd\n",
    "import numpy as np"
   ]
  },
  {
   "cell_type": "code",
   "execution_count": 2,
   "metadata": {},
   "outputs": [
    {
     "data": {
      "text/html": [
       "<div>\n",
       "<style scoped>\n",
       "    .dataframe tbody tr th:only-of-type {\n",
       "        vertical-align: middle;\n",
       "    }\n",
       "\n",
       "    .dataframe tbody tr th {\n",
       "        vertical-align: top;\n",
       "    }\n",
       "\n",
       "    .dataframe thead th {\n",
       "        text-align: right;\n",
       "    }\n",
       "</style>\n",
       "<table border=\"1\" class=\"dataframe\">\n",
       "  <thead>\n",
       "    <tr style=\"text-align: right;\">\n",
       "      <th></th>\n",
       "      <th>ProductName</th>\n",
       "      <th>Category</th>\n",
       "    </tr>\n",
       "  </thead>\n",
       "  <tbody>\n",
       "    <tr>\n",
       "      <th>0</th>\n",
       "      <td>Canon Pixma G 2000 Multi-function Color Printer</td>\n",
       "      <td>Printer and Scanner</td>\n",
       "    </tr>\n",
       "    <tr>\n",
       "      <th>1</th>\n",
       "      <td>Canon G3012 Multi-function Wireless Color Printer</td>\n",
       "      <td>Printer and Scanner</td>\n",
       "    </tr>\n",
       "    <tr>\n",
       "      <th>2</th>\n",
       "      <td>HP LaserJet Pro MFP M126nw Multi-function Wire...</td>\n",
       "      <td>Printer and Scanner</td>\n",
       "    </tr>\n",
       "    <tr>\n",
       "      <th>3</th>\n",
       "      <td>HP LaserJet Pro M1136 MFP Multi-function Monoc...</td>\n",
       "      <td>Printer and Scanner</td>\n",
       "    </tr>\n",
       "    <tr>\n",
       "      <th>4</th>\n",
       "      <td>HP DeskJet Ink Advantage Ultra 4729 Multi-func...</td>\n",
       "      <td>Printer and Scanner</td>\n",
       "    </tr>\n",
       "  </tbody>\n",
       "</table>\n",
       "</div>"
      ],
      "text/plain": [
       "                                         ProductName             Category\n",
       "0    Canon Pixma G 2000 Multi-function Color Printer  Printer and Scanner\n",
       "1  Canon G3012 Multi-function Wireless Color Printer  Printer and Scanner\n",
       "2  HP LaserJet Pro MFP M126nw Multi-function Wire...  Printer and Scanner\n",
       "3  HP LaserJet Pro M1136 MFP Multi-function Monoc...  Printer and Scanner\n",
       "4  HP DeskJet Ink Advantage Ultra 4729 Multi-func...  Printer and Scanner"
      ]
     },
     "execution_count": 2,
     "metadata": {},
     "output_type": "execute_result"
    }
   ],
   "source": [
    "data = pd.read_csv('csvfiles/catalogue_printerScanner.csv')\n",
    "data.head()"
   ]
  },
  {
   "cell_type": "code",
   "execution_count": 3,
   "metadata": {},
   "outputs": [
    {
     "data": {
      "text/plain": [
       "Index(['ProductName', 'Category'], dtype='object')"
      ]
     },
     "execution_count": 3,
     "metadata": {},
     "output_type": "execute_result"
    }
   ],
   "source": [
    "data.columns"
   ]
  },
  {
   "cell_type": "code",
   "execution_count": 4,
   "metadata": {},
   "outputs": [
    {
     "data": {
      "text/plain": [
       "0        Canon Pixma G 2000 Multi-function Color Printer\n",
       "1      Canon G3012 Multi-function Wireless Color Printer\n",
       "2      HP LaserJet Pro MFP M126nw Multi-function Wire...\n",
       "3      HP LaserJet Pro M1136 MFP Multi-function Monoc...\n",
       "4      HP DeskJet Ink Advantage Ultra 4729 Multi-func...\n",
       "                             ...                        \n",
       "204      Epson L810 InkTank Multi-function Color Printer\n",
       "205       HP Laserjet M1005 Multi-function Color Printer\n",
       "206    PRASH SP 210 Toner Cartridge Compatible For Ri...\n",
       "207    Canon G3012 All in One Printer Multi-function ...\n",
       "208    Samsung SCX 4321 Multi-function Monochrome Pri...\n",
       "Name: ProductName, Length: 209, dtype: object"
      ]
     },
     "execution_count": 4,
     "metadata": {},
     "output_type": "execute_result"
    }
   ],
   "source": [
    "## Scraped Product Name containing the Brand, Model and features all together\n",
    "prodName = data.ProductName\n",
    "prodName"
   ]
  },
  {
   "cell_type": "code",
   "execution_count": 5,
   "metadata": {},
   "outputs": [
    {
     "data": {
      "text/plain": [
       "0      [Canon, Pixma G 2000 Multi-function Color Prin...\n",
       "1      [Canon, G3012 Multi-function Wireless Color Pr...\n",
       "2      [HP, LaserJet Pro MFP M126nw Multi-function Wi...\n",
       "3      [HP, LaserJet Pro M1136 MFP Multi-function Mon...\n",
       "4      [HP, DeskJet Ink Advantage Ultra 4729 Multi-fu...\n",
       "                             ...                        \n",
       "204    [Epson, L810 InkTank Multi-function Color Prin...\n",
       "205    [HP, Laserjet M1005 Multi-function Color Printer]\n",
       "206    [PRASH, SP 210 Toner Cartridge Compatible For ...\n",
       "207    [Canon, G3012 All in One Printer Multi-functio...\n",
       "208    [Samsung, SCX 4321 Multi-function Monochrome P...\n",
       "Name: ProductName, Length: 209, dtype: object"
      ]
     },
     "execution_count": 5,
     "metadata": {},
     "output_type": "execute_result"
    }
   ],
   "source": [
    "## Splitting the brand from the Product Name (it is the first string in the Product Name)\n",
    "brand = prodName.str.split(' ',1)\n",
    "brand"
   ]
  },
  {
   "cell_type": "code",
   "execution_count": 6,
   "metadata": {},
   "outputs": [
    {
     "data": {
      "text/plain": [
       "0        Canon\n",
       "1        Canon\n",
       "2           HP\n",
       "3           HP\n",
       "4           HP\n",
       "        ...   \n",
       "204      Epson\n",
       "205         HP\n",
       "206      PRASH\n",
       "207      Canon\n",
       "208    Samsung\n",
       "Name: ProductName, Length: 209, dtype: object"
      ]
     },
     "execution_count": 6,
     "metadata": {},
     "output_type": "execute_result"
    }
   ],
   "source": [
    "brands = brand.loc[:].map(lambda x: x[0])\n",
    "brands"
   ]
  },
  {
   "cell_type": "code",
   "execution_count": 7,
   "metadata": {},
   "outputs": [
    {
     "data": {
      "text/plain": [
       "0       [Pixma, G, 2000, Multi-function, Color, Printer]\n",
       "1      [G3012, Multi-function, Wireless, Color, Printer]\n",
       "2      [LaserJet, Pro, MFP, M126nw, Multi-function, W...\n",
       "3      [LaserJet, Pro, M1136, MFP, Multi-function, Mo...\n",
       "4      [DeskJet, Ink, Advantage, Ultra, 4729, Multi-f...\n",
       "                             ...                        \n",
       "204      [L810, InkTank, Multi-function, Color, Printer]\n",
       "205    [Laserjet, M1005, Multi-function, Color, Printer]\n",
       "206    [SP, 210, Toner, Cartridge, Compatible, For, R...\n",
       "207    [G3012, All, in, One, Printer, Multi-function,...\n",
       "208     [SCX, 4321, Multi-function, Monochrome, Printer]\n",
       "Name: ProductName, Length: 209, dtype: object"
      ]
     },
     "execution_count": 7,
     "metadata": {},
     "output_type": "execute_result"
    }
   ],
   "source": [
    "model = brand.loc[:].map(lambda x: x[1])\n",
    "models = model.str.split(' ')\n",
    "models"
   ]
  },
  {
   "cell_type": "code",
   "execution_count": 8,
   "metadata": {},
   "outputs": [
    {
     "data": {
      "text/plain": [
       "0           Color\n",
       "1           Color\n",
       "2      Monochrome\n",
       "3      Monochrome\n",
       "4           Color\n",
       "          ...    \n",
       "204         Color\n",
       "205         Color\n",
       "206    Monochrome\n",
       "207         Color\n",
       "208    Monochrome\n",
       "Name: ProductName, Length: 209, dtype: object"
      ]
     },
     "execution_count": 8,
     "metadata": {},
     "output_type": "execute_result"
    }
   ],
   "source": [
    "color_type = models.loc[:].map(lambda x: x[-2])\n",
    "color_type"
   ]
  },
  {
   "cell_type": "code",
   "execution_count": 9,
   "metadata": {},
   "outputs": [
    {
     "data": {
      "text/plain": [
       "209"
      ]
     },
     "execution_count": 9,
     "metadata": {},
     "output_type": "execute_result"
    }
   ],
   "source": [
    "## Checking for other features\n",
    "p_type = ['Color', 'Monochrome']\n",
    "\n",
    "color =[]\n",
    "\n",
    "for i in range(len(models)):\n",
    "    #print(models[i])\n",
    "    spec=[]\n",
    "    if any(word in models[i] for word in p_type):\n",
    "        for word in p_type:\n",
    "            if word in models[i]:\n",
    "                spec.append(word)\n",
    "        color.append(spec)  \n",
    "    else:\n",
    "        color.append('None')\n",
    "\n",
    "    \n",
    "len(color)"
   ]
  },
  {
   "cell_type": "code",
   "execution_count": 10,
   "metadata": {},
   "outputs": [
    {
     "data": {
      "text/plain": [
       "209"
      ]
     },
     "execution_count": 10,
     "metadata": {},
     "output_type": "execute_result"
    }
   ],
   "source": [
    "## Checking for other features\n",
    "p_type = ['LaserJet', 'Laserjet','DeskJet','Inkjet','InkJet' ,'InkTank','Ink Tank','INKTANK', 'Inktank',\\\n",
    "          'EcoTank','OfficeJet','Laser']\n",
    "\n",
    "Prod_spec =[]\n",
    "\n",
    "for i in range(len(models)):\n",
    "    #print(models[i])\n",
    "    spec=[]\n",
    "    if any(word in models[i] for word in p_type):\n",
    "        for word in p_type:\n",
    "            if word in models[i]:\n",
    "                spec.append(word)\n",
    "        Prod_spec.append(spec)  \n",
    "    else:\n",
    "        Prod_spec.append('None')\n",
    "\n",
    "    \n",
    "len(Prod_spec)"
   ]
  },
  {
   "cell_type": "code",
   "execution_count": 11,
   "metadata": {},
   "outputs": [
    {
     "data": {
      "text/plain": [
       "209"
      ]
     },
     "execution_count": 11,
     "metadata": {},
     "output_type": "execute_result"
    }
   ],
   "source": [
    "## Checking for other features\n",
    "p_type = ['Wireless', 'WIRELESS','Wi-Fi']\n",
    "\n",
    "Prod_spec2 =[]\n",
    "\n",
    "for i in range(len(models)):\n",
    "    #print(models[i])\n",
    "    spec=[]\n",
    "    if any(word in models[i] for word in p_type):\n",
    "        for word in p_type:\n",
    "            if word in models[i]:\n",
    "                spec.append(word)\n",
    "        Prod_spec2.append(spec)  \n",
    "    else:\n",
    "        Prod_spec2.append('None')\n",
    "\n",
    "    \n",
    "len(Prod_spec2)"
   ]
  },
  {
   "cell_type": "code",
   "execution_count": null,
   "metadata": {},
   "outputs": [],
   "source": []
  },
  {
   "cell_type": "code",
   "execution_count": 12,
   "metadata": {},
   "outputs": [
    {
     "data": {
      "text/html": [
       "<div>\n",
       "<style scoped>\n",
       "    .dataframe tbody tr th:only-of-type {\n",
       "        vertical-align: middle;\n",
       "    }\n",
       "\n",
       "    .dataframe tbody tr th {\n",
       "        vertical-align: top;\n",
       "    }\n",
       "\n",
       "    .dataframe thead th {\n",
       "        text-align: right;\n",
       "    }\n",
       "</style>\n",
       "<table border=\"1\" class=\"dataframe\">\n",
       "  <thead>\n",
       "    <tr style=\"text-align: right;\">\n",
       "      <th></th>\n",
       "      <th>Brand</th>\n",
       "      <th>Color_type</th>\n",
       "      <th>Print_type</th>\n",
       "      <th>Prod_spec</th>\n",
       "      <th>Category</th>\n",
       "    </tr>\n",
       "  </thead>\n",
       "  <tbody>\n",
       "    <tr>\n",
       "      <th>0</th>\n",
       "      <td>Canon</td>\n",
       "      <td>Color</td>\n",
       "      <td>N o n e</td>\n",
       "      <td>N o n e</td>\n",
       "      <td>Printer and Scanner</td>\n",
       "    </tr>\n",
       "    <tr>\n",
       "      <th>1</th>\n",
       "      <td>Canon</td>\n",
       "      <td>Color</td>\n",
       "      <td>N o n e</td>\n",
       "      <td>Wireless</td>\n",
       "      <td>Printer and Scanner</td>\n",
       "    </tr>\n",
       "    <tr>\n",
       "      <th>2</th>\n",
       "      <td>HP</td>\n",
       "      <td>Monochrome</td>\n",
       "      <td>LaserJet</td>\n",
       "      <td>Wireless</td>\n",
       "      <td>Printer and Scanner</td>\n",
       "    </tr>\n",
       "    <tr>\n",
       "      <th>3</th>\n",
       "      <td>HP</td>\n",
       "      <td>Monochrome</td>\n",
       "      <td>LaserJet</td>\n",
       "      <td>N o n e</td>\n",
       "      <td>Printer and Scanner</td>\n",
       "    </tr>\n",
       "    <tr>\n",
       "      <th>4</th>\n",
       "      <td>HP</td>\n",
       "      <td>Color</td>\n",
       "      <td>DeskJet</td>\n",
       "      <td>Wireless</td>\n",
       "      <td>Printer and Scanner</td>\n",
       "    </tr>\n",
       "    <tr>\n",
       "      <th>...</th>\n",
       "      <td>...</td>\n",
       "      <td>...</td>\n",
       "      <td>...</td>\n",
       "      <td>...</td>\n",
       "      <td>...</td>\n",
       "    </tr>\n",
       "    <tr>\n",
       "      <th>204</th>\n",
       "      <td>Epson</td>\n",
       "      <td>Color</td>\n",
       "      <td>InkTank</td>\n",
       "      <td>N o n e</td>\n",
       "      <td>Printer and Scanner</td>\n",
       "    </tr>\n",
       "    <tr>\n",
       "      <th>205</th>\n",
       "      <td>HP</td>\n",
       "      <td>Color</td>\n",
       "      <td>Laserjet</td>\n",
       "      <td>N o n e</td>\n",
       "      <td>Printer and Scanner</td>\n",
       "    </tr>\n",
       "    <tr>\n",
       "      <th>206</th>\n",
       "      <td>PRASH</td>\n",
       "      <td>Color Monochrome</td>\n",
       "      <td>N o n e</td>\n",
       "      <td>N o n e</td>\n",
       "      <td>Printer and Scanner</td>\n",
       "    </tr>\n",
       "    <tr>\n",
       "      <th>207</th>\n",
       "      <td>Canon</td>\n",
       "      <td>Color</td>\n",
       "      <td>N o n e</td>\n",
       "      <td>N o n e</td>\n",
       "      <td>Printer and Scanner</td>\n",
       "    </tr>\n",
       "    <tr>\n",
       "      <th>208</th>\n",
       "      <td>Samsung</td>\n",
       "      <td>Monochrome</td>\n",
       "      <td>N o n e</td>\n",
       "      <td>N o n e</td>\n",
       "      <td>Printer and Scanner</td>\n",
       "    </tr>\n",
       "  </tbody>\n",
       "</table>\n",
       "<p>209 rows × 5 columns</p>\n",
       "</div>"
      ],
      "text/plain": [
       "       Brand        Color_type Print_type Prod_spec             Category\n",
       "0      Canon             Color    N o n e   N o n e  Printer and Scanner\n",
       "1      Canon             Color    N o n e  Wireless  Printer and Scanner\n",
       "2         HP        Monochrome   LaserJet  Wireless  Printer and Scanner\n",
       "3         HP        Monochrome   LaserJet   N o n e  Printer and Scanner\n",
       "4         HP             Color    DeskJet  Wireless  Printer and Scanner\n",
       "..       ...               ...        ...       ...                  ...\n",
       "204    Epson             Color    InkTank   N o n e  Printer and Scanner\n",
       "205       HP             Color   Laserjet   N o n e  Printer and Scanner\n",
       "206    PRASH  Color Monochrome    N o n e   N o n e  Printer and Scanner\n",
       "207    Canon             Color    N o n e   N o n e  Printer and Scanner\n",
       "208  Samsung        Monochrome    N o n e   N o n e  Printer and Scanner\n",
       "\n",
       "[209 rows x 5 columns]"
      ]
     },
     "execution_count": 12,
     "metadata": {},
     "output_type": "execute_result"
    }
   ],
   "source": [
    "## Inserting the Brand and Model as separate columns and deleting the original Product Name\n",
    "data = data.drop(columns = 'ProductName')\n",
    "data.insert(0, \"Brand\", brands, True) \n",
    "data.insert(1, \"Color_type\", color, True)\n",
    "data.insert(2, \"Print_type\", Prod_spec, True)\n",
    "data.insert(3,\"Prod_spec\", Prod_spec2, True)\n",
    "data['Print_type'] = data['Print_type'].apply(lambda x: ' '.join(map(str, x)))\n",
    "data['Prod_spec'] = data['Prod_spec'].apply(lambda x: ' '.join(map(str, x)))\n",
    "data['Color_type'] = data['Color_type'].apply(lambda x: ' '.join(map(str, x)))\n",
    "\n",
    "data"
   ]
  },
  {
   "cell_type": "code",
   "execution_count": 13,
   "metadata": {},
   "outputs": [
    {
     "data": {
      "text/plain": [
       "Brand                          HP\n",
       "Color_type                  Color\n",
       "Print_type        DeskJet InkTank\n",
       "Prod_spec                Wireless\n",
       "Category      Printer and Scanner\n",
       "Name: 57, dtype: object"
      ]
     },
     "execution_count": 13,
     "metadata": {},
     "output_type": "execute_result"
    }
   ],
   "source": [
    "data.iloc[57]"
   ]
  },
  {
   "cell_type": "code",
   "execution_count": 14,
   "metadata": {},
   "outputs": [],
   "source": [
    "data.to_csv(\"cleanedfiles/final_printers.csv\")"
   ]
  },
  {
   "cell_type": "code",
   "execution_count": null,
   "metadata": {},
   "outputs": [],
   "source": []
  }
 ],
 "metadata": {
  "kernelspec": {
   "display_name": "Python 3",
   "language": "python",
   "name": "python3"
  },
  "language_info": {
   "codemirror_mode": {
    "name": "ipython",
    "version": 3
   },
   "file_extension": ".py",
   "mimetype": "text/x-python",
   "name": "python",
   "nbconvert_exporter": "python",
   "pygments_lexer": "ipython3",
   "version": "3.8.1"
  }
 },
 "nbformat": 4,
 "nbformat_minor": 4
}
