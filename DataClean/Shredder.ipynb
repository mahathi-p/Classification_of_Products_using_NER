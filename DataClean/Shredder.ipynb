{
 "cells": [
  {
   "cell_type": "code",
   "execution_count": 1,
   "metadata": {},
   "outputs": [],
   "source": [
    "import pandas as pd\n",
    "import numpy as np"
   ]
  },
  {
   "cell_type": "code",
   "execution_count": 2,
   "metadata": {},
   "outputs": [
    {
     "data": {
      "text/html": [
       "<div>\n",
       "<style scoped>\n",
       "    .dataframe tbody tr th:only-of-type {\n",
       "        vertical-align: middle;\n",
       "    }\n",
       "\n",
       "    .dataframe tbody tr th {\n",
       "        vertical-align: top;\n",
       "    }\n",
       "\n",
       "    .dataframe thead th {\n",
       "        text-align: right;\n",
       "    }\n",
       "</style>\n",
       "<table border=\"1\" class=\"dataframe\">\n",
       "  <thead>\n",
       "    <tr style=\"text-align: right;\">\n",
       "      <th></th>\n",
       "      <th>ProductName</th>\n",
       "    </tr>\n",
       "  </thead>\n",
       "  <tbody>\n",
       "    <tr>\n",
       "      <th>0</th>\n",
       "      <td>MDI Shred+ Cross Cut Paper Shredder CD/DVD/Cre...</td>\n",
       "    </tr>\n",
       "    <tr>\n",
       "      <th>1</th>\n",
       "      <td>Stok ST-30CC Cross Cut Paper Shredder Paper Tr...</td>\n",
       "    </tr>\n",
       "    <tr>\n",
       "      <th>2</th>\n",
       "      <td>Kores Easy Cut 891 Paper Trimmer</td>\n",
       "    </tr>\n",
       "    <tr>\n",
       "      <th>3</th>\n",
       "      <td>Kores 872 Paper Trimmer</td>\n",
       "    </tr>\n",
       "    <tr>\n",
       "      <th>4</th>\n",
       "      <td>Reetrix Cross Cut Paper Shredder for A4 Size 8...</td>\n",
       "    </tr>\n",
       "  </tbody>\n",
       "</table>\n",
       "</div>"
      ],
      "text/plain": [
       "                                         ProductName\n",
       "0  MDI Shred+ Cross Cut Paper Shredder CD/DVD/Cre...\n",
       "1  Stok ST-30CC Cross Cut Paper Shredder Paper Tr...\n",
       "2                   Kores Easy Cut 891 Paper Trimmer\n",
       "3                            Kores 872 Paper Trimmer\n",
       "4  Reetrix Cross Cut Paper Shredder for A4 Size 8..."
      ]
     },
     "execution_count": 2,
     "metadata": {},
     "output_type": "execute_result"
    }
   ],
   "source": [
    "data = pd.read_csv('csvfiles/catalogue_shredder.csv')\n",
    "data.head()"
   ]
  },
  {
   "cell_type": "code",
   "execution_count": 3,
   "metadata": {},
   "outputs": [
    {
     "data": {
      "text/plain": [
       "0      MDI Shred+ Cross Cut Paper Shredder CD/DVD/Cre...\n",
       "1      Stok ST-30CC Cross Cut Paper Shredder Paper Tr...\n",
       "2                       Kores Easy Cut 891 Paper Trimmer\n",
       "3                                Kores 872 Paper Trimmer\n",
       "4      Reetrix Cross Cut Paper Shredder for A4 Size 8...\n",
       "                             ...                        \n",
       "115                   SECURITY STORE 00008 Paper Trimmer\n",
       "116                 Stok ST-10SCC Shredder Paper Trimmer\n",
       "117                         Antiva CC207CD Paper Trimmer\n",
       "118    FELLOWES PAPER SHREDDER 18 SHEETS CROSS CUT 99...\n",
       "119                               GBC x415 Paper Trimmer\n",
       "Name: ProductName, Length: 120, dtype: object"
      ]
     },
     "execution_count": 3,
     "metadata": {},
     "output_type": "execute_result"
    }
   ],
   "source": [
    "prodName = data.ProductName\n",
    "prodName"
   ]
  },
  {
   "cell_type": "code",
   "execution_count": 4,
   "metadata": {},
   "outputs": [
    {
     "data": {
      "text/plain": [
       "0      [MDI, Shred+ Cross Cut Paper Shredder CD/DVD/C...\n",
       "1      [Stok, ST-30CC Cross Cut Paper Shredder Paper ...\n",
       "2                    [Kores, Easy Cut 891 Paper Trimmer]\n",
       "3                             [Kores, 872 Paper Trimmer]\n",
       "4      [Reetrix, Cross Cut Paper Shredder for A4 Size...\n",
       "                             ...                        \n",
       "115                [SECURITY, STORE 00008 Paper Trimmer]\n",
       "116              [Stok, ST-10SCC Shredder Paper Trimmer]\n",
       "117                      [Antiva, CC207CD Paper Trimmer]\n",
       "118    [FELLOWES, PAPER SHREDDER 18 SHEETS CROSS CUT ...\n",
       "119                            [GBC, x415 Paper Trimmer]\n",
       "Name: ProductName, Length: 120, dtype: object"
      ]
     },
     "execution_count": 4,
     "metadata": {},
     "output_type": "execute_result"
    }
   ],
   "source": [
    "brand = prodName.str.split(' ',1)\n",
    "brand"
   ]
  },
  {
   "cell_type": "code",
   "execution_count": 5,
   "metadata": {},
   "outputs": [
    {
     "data": {
      "text/plain": [
       "0           MDI\n",
       "1          Stok\n",
       "2         Kores\n",
       "3         Kores\n",
       "4       Reetrix\n",
       "         ...   \n",
       "115    SECURITY\n",
       "116        Stok\n",
       "117      Antiva\n",
       "118    FELLOWES\n",
       "119         GBC\n",
       "Name: ProductName, Length: 120, dtype: object"
      ]
     },
     "execution_count": 5,
     "metadata": {},
     "output_type": "execute_result"
    }
   ],
   "source": [
    "brands = brand.loc[:].map(lambda x: x[0])\n",
    "brands"
   ]
  },
  {
   "cell_type": "code",
   "execution_count": 6,
   "metadata": {},
   "outputs": [
    {
     "data": {
      "text/plain": [
       "0      Shred+ Cross Cut Paper Shredder CD/DVD/Credit ...\n",
       "1         ST-30CC Cross Cut Paper Shredder Paper Trimmer\n",
       "2                             Easy Cut 891 Paper Trimmer\n",
       "3                                      872 Paper Trimmer\n",
       "4      Cross Cut Paper Shredder for A4 Size 8 Sheets ...\n",
       "                             ...                        \n",
       "115                            STORE 00008 Paper Trimmer\n",
       "116                      ST-10SCC Shredder Paper Trimmer\n",
       "117                                CC207CD Paper Trimmer\n",
       "118    PAPER SHREDDER 18 SHEETS CROSS CUT 99CI Paper ...\n",
       "119                                   x415 Paper Trimmer\n",
       "Name: ProductName, Length: 120, dtype: object"
      ]
     },
     "execution_count": 6,
     "metadata": {},
     "output_type": "execute_result"
    }
   ],
   "source": [
    "model = brand.loc[:].map(lambda x: x[1])\n",
    "#models = model.str.split(' ')\n",
    "model"
   ]
  },
  {
   "cell_type": "code",
   "execution_count": 7,
   "metadata": {},
   "outputs": [
    {
     "data": {
      "text/html": [
       "<div>\n",
       "<style scoped>\n",
       "    .dataframe tbody tr th:only-of-type {\n",
       "        vertical-align: middle;\n",
       "    }\n",
       "\n",
       "    .dataframe tbody tr th {\n",
       "        vertical-align: top;\n",
       "    }\n",
       "\n",
       "    .dataframe thead th {\n",
       "        text-align: right;\n",
       "    }\n",
       "</style>\n",
       "<table border=\"1\" class=\"dataframe\">\n",
       "  <thead>\n",
       "    <tr style=\"text-align: right;\">\n",
       "      <th></th>\n",
       "      <th>Brand</th>\n",
       "      <th>Prod_Spec</th>\n",
       "    </tr>\n",
       "  </thead>\n",
       "  <tbody>\n",
       "    <tr>\n",
       "      <th>0</th>\n",
       "      <td>MDI</td>\n",
       "      <td>Shred+ Cross Cut Paper Shredder CD/DVD/Credit ...</td>\n",
       "    </tr>\n",
       "    <tr>\n",
       "      <th>1</th>\n",
       "      <td>Stok</td>\n",
       "      <td>ST-30CC Cross Cut Paper Shredder Paper Trimmer</td>\n",
       "    </tr>\n",
       "    <tr>\n",
       "      <th>2</th>\n",
       "      <td>Kores</td>\n",
       "      <td>Easy Cut 891 Paper Trimmer</td>\n",
       "    </tr>\n",
       "    <tr>\n",
       "      <th>3</th>\n",
       "      <td>Kores</td>\n",
       "      <td>872 Paper Trimmer</td>\n",
       "    </tr>\n",
       "    <tr>\n",
       "      <th>4</th>\n",
       "      <td>Reetrix</td>\n",
       "      <td>Cross Cut Paper Shredder for A4 Size 8 Sheets ...</td>\n",
       "    </tr>\n",
       "    <tr>\n",
       "      <th>...</th>\n",
       "      <td>...</td>\n",
       "      <td>...</td>\n",
       "    </tr>\n",
       "    <tr>\n",
       "      <th>115</th>\n",
       "      <td>SECURITY</td>\n",
       "      <td>STORE 00008 Paper Trimmer</td>\n",
       "    </tr>\n",
       "    <tr>\n",
       "      <th>116</th>\n",
       "      <td>Stok</td>\n",
       "      <td>ST-10SCC Shredder Paper Trimmer</td>\n",
       "    </tr>\n",
       "    <tr>\n",
       "      <th>117</th>\n",
       "      <td>Antiva</td>\n",
       "      <td>CC207CD Paper Trimmer</td>\n",
       "    </tr>\n",
       "    <tr>\n",
       "      <th>118</th>\n",
       "      <td>FELLOWES</td>\n",
       "      <td>PAPER SHREDDER 18 SHEETS CROSS CUT 99CI Paper ...</td>\n",
       "    </tr>\n",
       "    <tr>\n",
       "      <th>119</th>\n",
       "      <td>GBC</td>\n",
       "      <td>x415 Paper Trimmer</td>\n",
       "    </tr>\n",
       "  </tbody>\n",
       "</table>\n",
       "<p>120 rows × 2 columns</p>\n",
       "</div>"
      ],
      "text/plain": [
       "        Brand                                          Prod_Spec\n",
       "0         MDI  Shred+ Cross Cut Paper Shredder CD/DVD/Credit ...\n",
       "1        Stok     ST-30CC Cross Cut Paper Shredder Paper Trimmer\n",
       "2       Kores                         Easy Cut 891 Paper Trimmer\n",
       "3       Kores                                  872 Paper Trimmer\n",
       "4     Reetrix  Cross Cut Paper Shredder for A4 Size 8 Sheets ...\n",
       "..        ...                                                ...\n",
       "115  SECURITY                          STORE 00008 Paper Trimmer\n",
       "116      Stok                    ST-10SCC Shredder Paper Trimmer\n",
       "117    Antiva                              CC207CD Paper Trimmer\n",
       "118  FELLOWES  PAPER SHREDDER 18 SHEETS CROSS CUT 99CI Paper ...\n",
       "119       GBC                                 x415 Paper Trimmer\n",
       "\n",
       "[120 rows x 2 columns]"
      ]
     },
     "execution_count": 7,
     "metadata": {},
     "output_type": "execute_result"
    }
   ],
   "source": [
    "data.insert(0, \"Brand\", brands, True) \n",
    "data.insert(1,\"Prod_Spec\",model, True)\n",
    "data = data.drop(columns = 'ProductName')\n",
    "data"
   ]
  },
  {
   "cell_type": "code",
   "execution_count": null,
   "metadata": {},
   "outputs": [],
   "source": []
  }
 ],
 "metadata": {
  "kernelspec": {
   "display_name": "Python 3",
   "language": "python",
   "name": "python3"
  },
  "language_info": {
   "codemirror_mode": {
    "name": "ipython",
    "version": 3
   },
   "file_extension": ".py",
   "mimetype": "text/x-python",
   "name": "python",
   "nbconvert_exporter": "python",
   "pygments_lexer": "ipython3",
   "version": "3.8.1"
  }
 },
 "nbformat": 4,
 "nbformat_minor": 4
}
