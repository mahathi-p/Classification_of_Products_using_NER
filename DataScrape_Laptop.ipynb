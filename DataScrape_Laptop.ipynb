{
 "cells": [
  {
   "cell_type": "markdown",
   "metadata": {},
   "source": [
    "### To make a product catalogue for all the laptops present on flipkart, we scrape data about the laptop name and its specifications"
   ]
  },
  {
   "cell_type": "markdown",
   "metadata": {},
   "source": [
    "#### Importing required libraries"
   ]
  },
  {
   "cell_type": "code",
   "execution_count": 1,
   "metadata": {},
   "outputs": [],
   "source": [
    "from bs4 import BeautifulSoup as soup \n",
    "from urllib.request import urlopen as Ureq \n",
    "import time"
   ]
  },
  {
   "cell_type": "markdown",
   "metadata": {},
   "source": [
    "#### Opening a csv file to store the data and define the column names"
   ]
  },
  {
   "cell_type": "code",
   "execution_count": 2,
   "metadata": {},
   "outputs": [
    {
     "data": {
      "text/plain": [
       "53"
      ]
     },
     "execution_count": 2,
     "metadata": {},
     "output_type": "execute_result"
    }
   ],
   "source": [
    "file_name = r\"catalogue_laptop.csv\" \n",
    "file = open(file_name,\"w\",encoding=\"utf-8\") \n",
    "header = \"Product Name , Processor , Memory , OS , SSD , Dim  \\n\"\n",
    "file.write(header)"
   ]
  },
  {
   "cell_type": "markdown",
   "metadata": {},
   "source": [
    "#### Function to inspect the data on the page, and choose the containers from which data is to be collected"
   ]
  },
  {
   "cell_type": "code",
   "execution_count": 3,
   "metadata": {},
   "outputs": [],
   "source": [
    "### LAPTOP FORMAT\n",
    "def save_data(page):\n",
    "    page_soup=soup(page,\"html.parser\") \n",
    "    containers = page_soup.findAll(\"div\",{\"class\":\"_3O0U0u\"}) ### THIS IS THE PRODUCT\n",
    "    for container in containers:\n",
    "        name = container.findAll(\"div\",{\"class\":\"_3wU53n\"})\n",
    "        prodName = name[0].text\n",
    "        desc = container.findAll(\"li\",{\"class\":\"tVe95H\"})\n",
    "        #print(len(desc))\n",
    "        if (len(desc)==6):\n",
    "            file.write(prodName + ',' + desc[0].text + ','+ desc[1].text + ',' + desc[2].text + ',' \\\n",
    "                       + desc[3].text + ','+ desc[4].text + ','  + 'Laptop' + ',' + '\\n')\n"
   ]
  },
  {
   "cell_type": "code",
   "execution_count": 4,
   "metadata": {},
   "outputs": [],
   "source": [
    "# URL of the laptops \n",
    "laptop_url = \"https://www.flipkart.com/laptops/pr?sid=6bo%2Cb5g&q=laptops&otracker=categorytree&page=\"\n"
   ]
  },
  {
   "cell_type": "code",
   "execution_count": 5,
   "metadata": {},
   "outputs": [
    {
     "name": "stdout",
     "output_type": "stream",
     "text": [
      "https://www.flipkart.com/laptops/pr?sid=6bo%2Cb5g&q=laptops&otracker=categorytree&page=0\n",
      "https://www.flipkart.com/laptops/pr?sid=6bo%2Cb5g&q=laptops&otracker=categorytree&page=1\n",
      "https://www.flipkart.com/laptops/pr?sid=6bo%2Cb5g&q=laptops&otracker=categorytree&page=2\n",
      "https://www.flipkart.com/laptops/pr?sid=6bo%2Cb5g&q=laptops&otracker=categorytree&page=3\n",
      "https://www.flipkart.com/laptops/pr?sid=6bo%2Cb5g&q=laptops&otracker=categorytree&page=4\n",
      "https://www.flipkart.com/laptops/pr?sid=6bo%2Cb5g&q=laptops&otracker=categorytree&page=5\n",
      "https://www.flipkart.com/laptops/pr?sid=6bo%2Cb5g&q=laptops&otracker=categorytree&page=6\n",
      "https://www.flipkart.com/laptops/pr?sid=6bo%2Cb5g&q=laptops&otracker=categorytree&page=7\n",
      "https://www.flipkart.com/laptops/pr?sid=6bo%2Cb5g&q=laptops&otracker=categorytree&page=8\n",
      "https://www.flipkart.com/laptops/pr?sid=6bo%2Cb5g&q=laptops&otracker=categorytree&page=9\n",
      "https://www.flipkart.com/laptops/pr?sid=6bo%2Cb5g&q=laptops&otracker=categorytree&page=10\n",
      "https://www.flipkart.com/laptops/pr?sid=6bo%2Cb5g&q=laptops&otracker=categorytree&page=11\n",
      "https://www.flipkart.com/laptops/pr?sid=6bo%2Cb5g&q=laptops&otracker=categorytree&page=12\n",
      "https://www.flipkart.com/laptops/pr?sid=6bo%2Cb5g&q=laptops&otracker=categorytree&page=13\n",
      "https://www.flipkart.com/laptops/pr?sid=6bo%2Cb5g&q=laptops&otracker=categorytree&page=14\n",
      "https://www.flipkart.com/laptops/pr?sid=6bo%2Cb5g&q=laptops&otracker=categorytree&page=15\n",
      "https://www.flipkart.com/laptops/pr?sid=6bo%2Cb5g&q=laptops&otracker=categorytree&page=16\n",
      "https://www.flipkart.com/laptops/pr?sid=6bo%2Cb5g&q=laptops&otracker=categorytree&page=17\n",
      "https://www.flipkart.com/laptops/pr?sid=6bo%2Cb5g&q=laptops&otracker=categorytree&page=18\n",
      "https://www.flipkart.com/laptops/pr?sid=6bo%2Cb5g&q=laptops&otracker=categorytree&page=19\n"
     ]
    }
   ],
   "source": [
    "## PAGES IN LAPTOP\n",
    "for n in range(0,20):\n",
    "    url = laptop_url+str(n)\n",
    "    print(url)\n",
    "    uclient = Ureq(url)\n",
    "    # open url and store it into uclient\n",
    "    page = uclient.read()  #read url data and store into page\n",
    "    save_data(page)\n",
    "    time.sleep(30)\n",
    "uclient.close() #close the uclient \n",
    "file.close()"
   ]
  },
  {
   "cell_type": "code",
   "execution_count": null,
   "metadata": {},
   "outputs": [],
   "source": []
  }
 ],
 "metadata": {
  "kernelspec": {
   "display_name": "Python 3",
   "language": "python",
   "name": "python3"
  },
  "language_info": {
   "codemirror_mode": {
    "name": "ipython",
    "version": 3
   },
   "file_extension": ".py",
   "mimetype": "text/x-python",
   "name": "python",
   "nbconvert_exporter": "python",
   "pygments_lexer": "ipython3",
   "version": "3.8.1"
  }
 },
 "nbformat": 4,
 "nbformat_minor": 4
}
