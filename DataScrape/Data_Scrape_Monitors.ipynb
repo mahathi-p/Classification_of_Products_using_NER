{
 "cells": [
  {
   "cell_type": "markdown",
   "metadata": {},
   "source": [
    "## Scraping Data of Monitors from Flipkart"
   ]
  },
  {
   "cell_type": "markdown",
   "metadata": {},
   "source": [
    "#### 1. Importing required libraries"
   ]
  },
  {
   "cell_type": "code",
   "execution_count": 1,
   "metadata": {},
   "outputs": [],
   "source": [
    "from bs4 import BeautifulSoup as soup \n",
    "from urllib.request import urlopen as Ureq \n",
    "import time"
   ]
  },
  {
   "cell_type": "markdown",
   "metadata": {},
   "source": [
    "####  2. Creating a csv file"
   ]
  },
  {
   "cell_type": "code",
   "execution_count": 2,
   "metadata": {},
   "outputs": [
    {
     "data": {
      "text/plain": [
       "64"
      ]
     },
     "execution_count": 2,
     "metadata": {},
     "output_type": "execute_result"
    }
   ],
   "source": [
    "file_name = r\"csvfiles/catalogue_monitor.csv\" \n",
    "file = open(file_name,\"w\",encoding=\"utf-8\") \n",
    "header = \"ProductName , DispType , Dim , ResponseTime , HDMI , Category  \\n\"\n",
    "file.write(header)"
   ]
  },
  {
   "cell_type": "markdown",
   "metadata": {},
   "source": [
    "#### 3. Function to extract data and write into file"
   ]
  },
  {
   "cell_type": "code",
   "execution_count": 3,
   "metadata": {},
   "outputs": [],
   "source": [
    "### MONITOR FORMAT\n",
    "def save_data(page):\n",
    "    page_soup=soup(page,\"html.parser\") \n",
    "    containers = page_soup.findAll(\"div\",{\"class\":\"_3O0U0u\"}) ### THIS IS THE PRODUCT\n",
    "    for container in containers:\n",
    "        name = container.findAll(\"div\",{\"class\":\"_3wU53n\"})\n",
    "        prodName = name[0].text\n",
    "        desc = container.findAll(\"li\",{\"class\":\"tVe95H\"})\n",
    "        # to ensure monitors with similar feature format\n",
    "        if (len(desc)==5 and desc[0].text.startswith('Display Type:')==True and desc[3].text.startswith('HDMI')):\n",
    "\n",
    "            file.write(prodName + ',' + desc[0].text + ','+ desc[1].text + ',' + desc[2].text + ',' \\\n",
    "                       + desc[3].text + ','  + 'Monitor' + ',' + '\\n')\n"
   ]
  },
  {
   "cell_type": "code",
   "execution_count": 4,
   "metadata": {},
   "outputs": [],
   "source": [
    "#laptop_url = \"https://www.flipkart.com/laptops/pr?sid=6bo%2Cb5g&q=laptops&otracker=categorytree&page=\"\n",
    "mon_url = \"https://www.flipkart.com/search?q=monitors+for+computer&sid=6bo%2Cg0i%2C9no&as=on&as-show=on&otracker=AS_QueryStore_OrganicAutoSuggest_1_7_na_na_na&otracker1=AS_QueryStore_OrganicAutoSuggest_1_7_na_na_na&as-pos=1&as-type=RECENT&suggestionId=monitors+for+computer%7CMonitors&requestId=e991a3c8-0180-41cb-80f1-2e4544118cb9&as-searchtext=monitor\""
   ]
  },
  {
   "cell_type": "code",
   "execution_count": 5,
   "metadata": {
    "scrolled": true
   },
   "outputs": [
    {
     "name": "stdout",
     "output_type": "stream",
     "text": [
      "https://www.flipkart.com/search?q=monitors+for+computer&sid=6bo%2Cg0i%2C9no&as=on&as-show=on&otracker=AS_QueryStore_OrganicAutoSuggest_1_7_na_na_na&otracker1=AS_QueryStore_OrganicAutoSuggest_1_7_na_na_na&as-pos=1&as-type=RECENT&suggestionId=monitors+for+computer%7CMonitors&requestId=e991a3c8-0180-41cb-80f1-2e4544118cb9&as-searchtext=monitor0\n",
      "https://www.flipkart.com/search?q=monitors+for+computer&sid=6bo%2Cg0i%2C9no&as=on&as-show=on&otracker=AS_QueryStore_OrganicAutoSuggest_1_7_na_na_na&otracker1=AS_QueryStore_OrganicAutoSuggest_1_7_na_na_na&as-pos=1&as-type=RECENT&suggestionId=monitors+for+computer%7CMonitors&requestId=e991a3c8-0180-41cb-80f1-2e4544118cb9&as-searchtext=monitor1\n",
      "https://www.flipkart.com/search?q=monitors+for+computer&sid=6bo%2Cg0i%2C9no&as=on&as-show=on&otracker=AS_QueryStore_OrganicAutoSuggest_1_7_na_na_na&otracker1=AS_QueryStore_OrganicAutoSuggest_1_7_na_na_na&as-pos=1&as-type=RECENT&suggestionId=monitors+for+computer%7CMonitors&requestId=e991a3c8-0180-41cb-80f1-2e4544118cb9&as-searchtext=monitor2\n",
      "https://www.flipkart.com/search?q=monitors+for+computer&sid=6bo%2Cg0i%2C9no&as=on&as-show=on&otracker=AS_QueryStore_OrganicAutoSuggest_1_7_na_na_na&otracker1=AS_QueryStore_OrganicAutoSuggest_1_7_na_na_na&as-pos=1&as-type=RECENT&suggestionId=monitors+for+computer%7CMonitors&requestId=e991a3c8-0180-41cb-80f1-2e4544118cb9&as-searchtext=monitor3\n",
      "https://www.flipkart.com/search?q=monitors+for+computer&sid=6bo%2Cg0i%2C9no&as=on&as-show=on&otracker=AS_QueryStore_OrganicAutoSuggest_1_7_na_na_na&otracker1=AS_QueryStore_OrganicAutoSuggest_1_7_na_na_na&as-pos=1&as-type=RECENT&suggestionId=monitors+for+computer%7CMonitors&requestId=e991a3c8-0180-41cb-80f1-2e4544118cb9&as-searchtext=monitor4\n",
      "https://www.flipkart.com/search?q=monitors+for+computer&sid=6bo%2Cg0i%2C9no&as=on&as-show=on&otracker=AS_QueryStore_OrganicAutoSuggest_1_7_na_na_na&otracker1=AS_QueryStore_OrganicAutoSuggest_1_7_na_na_na&as-pos=1&as-type=RECENT&suggestionId=monitors+for+computer%7CMonitors&requestId=e991a3c8-0180-41cb-80f1-2e4544118cb9&as-searchtext=monitor5\n",
      "https://www.flipkart.com/search?q=monitors+for+computer&sid=6bo%2Cg0i%2C9no&as=on&as-show=on&otracker=AS_QueryStore_OrganicAutoSuggest_1_7_na_na_na&otracker1=AS_QueryStore_OrganicAutoSuggest_1_7_na_na_na&as-pos=1&as-type=RECENT&suggestionId=monitors+for+computer%7CMonitors&requestId=e991a3c8-0180-41cb-80f1-2e4544118cb9&as-searchtext=monitor6\n",
      "https://www.flipkart.com/search?q=monitors+for+computer&sid=6bo%2Cg0i%2C9no&as=on&as-show=on&otracker=AS_QueryStore_OrganicAutoSuggest_1_7_na_na_na&otracker1=AS_QueryStore_OrganicAutoSuggest_1_7_na_na_na&as-pos=1&as-type=RECENT&suggestionId=monitors+for+computer%7CMonitors&requestId=e991a3c8-0180-41cb-80f1-2e4544118cb9&as-searchtext=monitor7\n",
      "https://www.flipkart.com/search?q=monitors+for+computer&sid=6bo%2Cg0i%2C9no&as=on&as-show=on&otracker=AS_QueryStore_OrganicAutoSuggest_1_7_na_na_na&otracker1=AS_QueryStore_OrganicAutoSuggest_1_7_na_na_na&as-pos=1&as-type=RECENT&suggestionId=monitors+for+computer%7CMonitors&requestId=e991a3c8-0180-41cb-80f1-2e4544118cb9&as-searchtext=monitor8\n",
      "https://www.flipkart.com/search?q=monitors+for+computer&sid=6bo%2Cg0i%2C9no&as=on&as-show=on&otracker=AS_QueryStore_OrganicAutoSuggest_1_7_na_na_na&otracker1=AS_QueryStore_OrganicAutoSuggest_1_7_na_na_na&as-pos=1&as-type=RECENT&suggestionId=monitors+for+computer%7CMonitors&requestId=e991a3c8-0180-41cb-80f1-2e4544118cb9&as-searchtext=monitor9\n",
      "https://www.flipkart.com/search?q=monitors+for+computer&sid=6bo%2Cg0i%2C9no&as=on&as-show=on&otracker=AS_QueryStore_OrganicAutoSuggest_1_7_na_na_na&otracker1=AS_QueryStore_OrganicAutoSuggest_1_7_na_na_na&as-pos=1&as-type=RECENT&suggestionId=monitors+for+computer%7CMonitors&requestId=e991a3c8-0180-41cb-80f1-2e4544118cb9&as-searchtext=monitor10\n",
      "https://www.flipkart.com/search?q=monitors+for+computer&sid=6bo%2Cg0i%2C9no&as=on&as-show=on&otracker=AS_QueryStore_OrganicAutoSuggest_1_7_na_na_na&otracker1=AS_QueryStore_OrganicAutoSuggest_1_7_na_na_na&as-pos=1&as-type=RECENT&suggestionId=monitors+for+computer%7CMonitors&requestId=e991a3c8-0180-41cb-80f1-2e4544118cb9&as-searchtext=monitor11\n",
      "https://www.flipkart.com/search?q=monitors+for+computer&sid=6bo%2Cg0i%2C9no&as=on&as-show=on&otracker=AS_QueryStore_OrganicAutoSuggest_1_7_na_na_na&otracker1=AS_QueryStore_OrganicAutoSuggest_1_7_na_na_na&as-pos=1&as-type=RECENT&suggestionId=monitors+for+computer%7CMonitors&requestId=e991a3c8-0180-41cb-80f1-2e4544118cb9&as-searchtext=monitor12\n",
      "https://www.flipkart.com/search?q=monitors+for+computer&sid=6bo%2Cg0i%2C9no&as=on&as-show=on&otracker=AS_QueryStore_OrganicAutoSuggest_1_7_na_na_na&otracker1=AS_QueryStore_OrganicAutoSuggest_1_7_na_na_na&as-pos=1&as-type=RECENT&suggestionId=monitors+for+computer%7CMonitors&requestId=e991a3c8-0180-41cb-80f1-2e4544118cb9&as-searchtext=monitor13\n",
      "https://www.flipkart.com/search?q=monitors+for+computer&sid=6bo%2Cg0i%2C9no&as=on&as-show=on&otracker=AS_QueryStore_OrganicAutoSuggest_1_7_na_na_na&otracker1=AS_QueryStore_OrganicAutoSuggest_1_7_na_na_na&as-pos=1&as-type=RECENT&suggestionId=monitors+for+computer%7CMonitors&requestId=e991a3c8-0180-41cb-80f1-2e4544118cb9&as-searchtext=monitor14\n",
      "https://www.flipkart.com/search?q=monitors+for+computer&sid=6bo%2Cg0i%2C9no&as=on&as-show=on&otracker=AS_QueryStore_OrganicAutoSuggest_1_7_na_na_na&otracker1=AS_QueryStore_OrganicAutoSuggest_1_7_na_na_na&as-pos=1&as-type=RECENT&suggestionId=monitors+for+computer%7CMonitors&requestId=e991a3c8-0180-41cb-80f1-2e4544118cb9&as-searchtext=monitor15\n",
      "https://www.flipkart.com/search?q=monitors+for+computer&sid=6bo%2Cg0i%2C9no&as=on&as-show=on&otracker=AS_QueryStore_OrganicAutoSuggest_1_7_na_na_na&otracker1=AS_QueryStore_OrganicAutoSuggest_1_7_na_na_na&as-pos=1&as-type=RECENT&suggestionId=monitors+for+computer%7CMonitors&requestId=e991a3c8-0180-41cb-80f1-2e4544118cb9&as-searchtext=monitor16\n",
      "https://www.flipkart.com/search?q=monitors+for+computer&sid=6bo%2Cg0i%2C9no&as=on&as-show=on&otracker=AS_QueryStore_OrganicAutoSuggest_1_7_na_na_na&otracker1=AS_QueryStore_OrganicAutoSuggest_1_7_na_na_na&as-pos=1&as-type=RECENT&suggestionId=monitors+for+computer%7CMonitors&requestId=e991a3c8-0180-41cb-80f1-2e4544118cb9&as-searchtext=monitor17\n",
      "https://www.flipkart.com/search?q=monitors+for+computer&sid=6bo%2Cg0i%2C9no&as=on&as-show=on&otracker=AS_QueryStore_OrganicAutoSuggest_1_7_na_na_na&otracker1=AS_QueryStore_OrganicAutoSuggest_1_7_na_na_na&as-pos=1&as-type=RECENT&suggestionId=monitors+for+computer%7CMonitors&requestId=e991a3c8-0180-41cb-80f1-2e4544118cb9&as-searchtext=monitor18\n",
      "https://www.flipkart.com/search?q=monitors+for+computer&sid=6bo%2Cg0i%2C9no&as=on&as-show=on&otracker=AS_QueryStore_OrganicAutoSuggest_1_7_na_na_na&otracker1=AS_QueryStore_OrganicAutoSuggest_1_7_na_na_na&as-pos=1&as-type=RECENT&suggestionId=monitors+for+computer%7CMonitors&requestId=e991a3c8-0180-41cb-80f1-2e4544118cb9&as-searchtext=monitor19\n",
      "https://www.flipkart.com/search?q=monitors+for+computer&sid=6bo%2Cg0i%2C9no&as=on&as-show=on&otracker=AS_QueryStore_OrganicAutoSuggest_1_7_na_na_na&otracker1=AS_QueryStore_OrganicAutoSuggest_1_7_na_na_na&as-pos=1&as-type=RECENT&suggestionId=monitors+for+computer%7CMonitors&requestId=e991a3c8-0180-41cb-80f1-2e4544118cb9&as-searchtext=monitor20\n",
      "https://www.flipkart.com/search?q=monitors+for+computer&sid=6bo%2Cg0i%2C9no&as=on&as-show=on&otracker=AS_QueryStore_OrganicAutoSuggest_1_7_na_na_na&otracker1=AS_QueryStore_OrganicAutoSuggest_1_7_na_na_na&as-pos=1&as-type=RECENT&suggestionId=monitors+for+computer%7CMonitors&requestId=e991a3c8-0180-41cb-80f1-2e4544118cb9&as-searchtext=monitor21\n",
      "https://www.flipkart.com/search?q=monitors+for+computer&sid=6bo%2Cg0i%2C9no&as=on&as-show=on&otracker=AS_QueryStore_OrganicAutoSuggest_1_7_na_na_na&otracker1=AS_QueryStore_OrganicAutoSuggest_1_7_na_na_na&as-pos=1&as-type=RECENT&suggestionId=monitors+for+computer%7CMonitors&requestId=e991a3c8-0180-41cb-80f1-2e4544118cb9&as-searchtext=monitor22\n",
      "https://www.flipkart.com/search?q=monitors+for+computer&sid=6bo%2Cg0i%2C9no&as=on&as-show=on&otracker=AS_QueryStore_OrganicAutoSuggest_1_7_na_na_na&otracker1=AS_QueryStore_OrganicAutoSuggest_1_7_na_na_na&as-pos=1&as-type=RECENT&suggestionId=monitors+for+computer%7CMonitors&requestId=e991a3c8-0180-41cb-80f1-2e4544118cb9&as-searchtext=monitor23\n"
     ]
    }
   ],
   "source": [
    "## 24 PAGES IN MONITOR\n",
    "for n in range(0,24):\n",
    "    url = mon_url+str(n)\n",
    "    print(url)\n",
    "    uclient = Ureq(url)\n",
    "    # open url and store it into uclient\n",
    "    page = uclient.read()  #read url data and store into page\n",
    "    save_data(page)\n",
    "    #time.sleep(30)\n",
    "uclient.close() #close the uclient \n",
    "file.close()"
   ]
  },
  {
   "cell_type": "code",
   "execution_count": null,
   "metadata": {},
   "outputs": [],
   "source": []
  }
 ],
 "metadata": {
  "kernelspec": {
   "display_name": "Python 3",
   "language": "python",
   "name": "python3"
  },
  "language_info": {
   "codemirror_mode": {
    "name": "ipython",
    "version": 3
   },
   "file_extension": ".py",
   "mimetype": "text/x-python",
   "name": "python",
   "nbconvert_exporter": "python",
   "pygments_lexer": "ipython3",
   "version": "3.8.1"
  }
 },
 "nbformat": 4,
 "nbformat_minor": 2
}
