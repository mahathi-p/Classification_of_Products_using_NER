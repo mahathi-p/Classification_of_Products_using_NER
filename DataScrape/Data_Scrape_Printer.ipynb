{
 "cells": [
  {
   "cell_type": "markdown",
   "metadata": {},
   "source": [
    "## Scraping Data of Printers from Flipkart"
   ]
  },
  {
   "cell_type": "markdown",
   "metadata": {},
   "source": [
    "#### 1. Importing required libraries"
   ]
  },
  {
   "cell_type": "code",
   "execution_count": 1,
   "metadata": {},
   "outputs": [],
   "source": [
    "from bs4 import BeautifulSoup as soup  \n",
    "from urllib.request import urlopen as Ureq \n",
    "import time"
   ]
  },
  {
   "cell_type": "markdown",
   "metadata": {},
   "source": [
    "####  2. Creating a csv file"
   ]
  },
  {
   "cell_type": "code",
   "execution_count": 2,
   "metadata": {},
   "outputs": [
    {
     "data": {
      "text/plain": [
       "14"
      ]
     },
     "execution_count": 2,
     "metadata": {},
     "output_type": "execute_result"
    }
   ],
   "source": [
    "file_name = r\"csvfiles/catalogue_printer.csv\"  \n",
    "file = open(file_name,\"w\",encoding=\"utf-8\") \n",
    "header = \"Product Name \\n\"\n",
    "file.write(header)"
   ]
  },
  {
   "cell_type": "markdown",
   "metadata": {},
   "source": [
    "#### 3. Function to extract data and write into file"
   ]
  },
  {
   "cell_type": "code",
   "execution_count": 3,
   "metadata": {},
   "outputs": [],
   "source": [
    "## PRINTER FORMAT\n",
    "def save_data(page):\n",
    "    page_soup=soup(page,\"html.parser\") \n",
    "    containers = page_soup.findAll(\"div\",{\"class\":\"_3O0U0u\"}) ### THIS IS THE BIG CONTAINERS\n",
    "  \n",
    "    for container in containers:\n",
    "        buckets = container.findAll(\"div\",{\"class\":\"_3liAhj\"}) ### THIS IS THE PRODUCTS IN EACH CONTAINER\n",
    "\n",
    "        for prod in buckets:\n",
    "            prods = prod.findAll(\"div\",{\"class\":\"_3BTv9X\"}) ### THIS IS THE PRODUCT IMAGE\n",
    "\n",
    "            prodName = prods[0].findAll(\"img\", alt=True) ### THIS IS IMAGE ALT --> PRODUCT NAME IS HERE\n",
    "            img = prodName[0]\n",
    "            description = container.findAll(\"li\",{\"class\":\"tVe95H\"})\n",
    "            file.write(img['alt'] + \"\\n\")\n",
    "            #print(\"-----------\")\n",
    "       "
   ]
  },
  {
   "cell_type": "code",
   "execution_count": 4,
   "metadata": {},
   "outputs": [
    {
     "name": "stdout",
     "output_type": "stream",
     "text": [
      "https://www.flipkart.com/computers/printers-inks/printers/pr?sid=6bo,ffn,t64&otracker=categorytree0\n",
      "https://www.flipkart.com/computers/printers-inks/printers/pr?sid=6bo,ffn,t64&otracker=categorytree1\n",
      "https://www.flipkart.com/computers/printers-inks/printers/pr?sid=6bo,ffn,t64&otracker=categorytree2\n",
      "https://www.flipkart.com/computers/printers-inks/printers/pr?sid=6bo,ffn,t64&otracker=categorytree3\n",
      "https://www.flipkart.com/computers/printers-inks/printers/pr?sid=6bo,ffn,t64&otracker=categorytree4\n",
      "https://www.flipkart.com/computers/printers-inks/printers/pr?sid=6bo,ffn,t64&otracker=categorytree5\n",
      "https://www.flipkart.com/computers/printers-inks/printers/pr?sid=6bo,ffn,t64&otracker=categorytree6\n",
      "https://www.flipkart.com/computers/printers-inks/printers/pr?sid=6bo,ffn,t64&otracker=categorytree7\n",
      "https://www.flipkart.com/computers/printers-inks/printers/pr?sid=6bo,ffn,t64&otracker=categorytree8\n"
     ]
    }
   ],
   "source": [
    "## 8 PAGES IN PRINTER\n",
    "for n in range(0,9):\n",
    "    url =\"https://www.flipkart.com/computers/printers-inks/printers/pr?sid=6bo,ffn,t64&otracker=categorytree\"+str(n)\n",
    "    print(url)\n",
    "    uclient = Ureq(url)\n",
    "    # open url and store it into uclient\n",
    "    page = uclient.read()  #read url data and store into page\n",
    "    save_data(page)\n",
    "    #time.sleep(60)\n",
    "uclient.close() #close the uclient \n",
    "file.close()"
   ]
  }
 ],
 "metadata": {
  "kernelspec": {
   "display_name": "Python 3",
   "language": "python",
   "name": "python3"
  },
  "language_info": {
   "codemirror_mode": {
    "name": "ipython",
    "version": 3
   },
   "file_extension": ".py",
   "mimetype": "text/x-python",
   "name": "python",
   "nbconvert_exporter": "python",
   "pygments_lexer": "ipython3",
   "version": "3.8.1"
  }
 },
 "nbformat": 4,
 "nbformat_minor": 2
}
