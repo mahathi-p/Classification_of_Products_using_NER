{
 "cells": [
  {
   "cell_type": "markdown",
   "metadata": {},
   "source": [
    "## Scraping Data of HardDisks from Flipkart"
   ]
  },
  {
   "cell_type": "markdown",
   "metadata": {},
   "source": [
    "#### 1. Importing required libraries"
   ]
  },
  {
   "cell_type": "code",
   "execution_count": 1,
   "metadata": {},
   "outputs": [],
   "source": [
    "from bs4 import BeautifulSoup as soup \n",
    "from urllib.request import urlopen as Ureq \n",
    "import time"
   ]
  },
  {
   "cell_type": "markdown",
   "metadata": {},
   "source": [
    "####  2. Creating a csv file"
   ]
  },
  {
   "cell_type": "code",
   "execution_count": 2,
   "metadata": {},
   "outputs": [
    {
     "data": {
      "text/plain": [
       "58"
      ]
     },
     "execution_count": 2,
     "metadata": {},
     "output_type": "execute_result"
    }
   ],
   "source": [
    "file_name = r\"csvfiles/catalogue_harddisk.csv\" \n",
    "file = open(file_name,\"w\",encoding=\"utf-8\") \n",
    "header = \"ProductName , Type , Capacity , Connectivity , Category  \\n\"\n",
    "file.write(header)"
   ]
  },
  {
   "cell_type": "markdown",
   "metadata": {},
   "source": [
    "#### 3. Function to extract data and write into file"
   ]
  },
  {
   "cell_type": "code",
   "execution_count": 3,
   "metadata": {},
   "outputs": [],
   "source": [
    "# ## FORMAT\n",
    "def save_data(page):\n",
    "    page_soup=soup(page,\"html.parser\") \n",
    "    containers = page_soup.findAll(\"div\",{\"class\":\"_3O0U0u\"}) ### THIS IS THE PRODUCT\n",
    "    for container in containers:\n",
    "        name = container.findAll(\"div\",{\"class\":\"_3wU53n\"})\n",
    "        prodName = name[0].text\n",
    "        desc = container.findAll(\"li\",{\"class\":\"tVe95H\"})\n",
    "\n",
    "        if (len(desc)==4):\n",
    "            file.write(prodName + ',' + desc[0].text + ','+ desc[1].text + ',' + desc[2].text + ',' \\\n",
    "                       + 'HardDisk' + ',' + '\\n')\n"
   ]
  },
  {
   "cell_type": "code",
   "execution_count": 4,
   "metadata": {},
   "outputs": [],
   "source": [
    "# url to find harddisks\n",
    "url_h = \"https://www.flipkart.com/search?q=hard+disk&sid=6bo%2Cjdy%2Cnl6&as=on&as-show=on&otracker=AS_QueryStore_OrganicAutoSuggest_0_4_na_na_na&otracker1=AS_QueryStore_OrganicAutoSuggest_0_4_na_na_na&as-pos=0&as-type=RECENT&suggestionId=hard+disk%7CExternal+Hard+Disks&requestId=838cd286-4d0c-496c-b1b2-31aa26289579&as-searchtext=hard&page=\""
   ]
  },
  {
   "cell_type": "code",
   "execution_count": 5,
   "metadata": {
    "scrolled": true
   },
   "outputs": [
    {
     "name": "stdout",
     "output_type": "stream",
     "text": [
      "https://www.flipkart.com/search?q=hard+disk&sid=6bo%2Cjdy%2Cnl6&as=on&as-show=on&otracker=AS_QueryStore_OrganicAutoSuggest_0_4_na_na_na&otracker1=AS_QueryStore_OrganicAutoSuggest_0_4_na_na_na&as-pos=0&as-type=RECENT&suggestionId=hard+disk%7CExternal+Hard+Disks&requestId=838cd286-4d0c-496c-b1b2-31aa26289579&as-searchtext=hard&page=0\n",
      "https://www.flipkart.com/search?q=hard+disk&sid=6bo%2Cjdy%2Cnl6&as=on&as-show=on&otracker=AS_QueryStore_OrganicAutoSuggest_0_4_na_na_na&otracker1=AS_QueryStore_OrganicAutoSuggest_0_4_na_na_na&as-pos=0&as-type=RECENT&suggestionId=hard+disk%7CExternal+Hard+Disks&requestId=838cd286-4d0c-496c-b1b2-31aa26289579&as-searchtext=hard&page=1\n",
      "https://www.flipkart.com/search?q=hard+disk&sid=6bo%2Cjdy%2Cnl6&as=on&as-show=on&otracker=AS_QueryStore_OrganicAutoSuggest_0_4_na_na_na&otracker1=AS_QueryStore_OrganicAutoSuggest_0_4_na_na_na&as-pos=0&as-type=RECENT&suggestionId=hard+disk%7CExternal+Hard+Disks&requestId=838cd286-4d0c-496c-b1b2-31aa26289579&as-searchtext=hard&page=2\n",
      "https://www.flipkart.com/search?q=hard+disk&sid=6bo%2Cjdy%2Cnl6&as=on&as-show=on&otracker=AS_QueryStore_OrganicAutoSuggest_0_4_na_na_na&otracker1=AS_QueryStore_OrganicAutoSuggest_0_4_na_na_na&as-pos=0&as-type=RECENT&suggestionId=hard+disk%7CExternal+Hard+Disks&requestId=838cd286-4d0c-496c-b1b2-31aa26289579&as-searchtext=hard&page=3\n",
      "https://www.flipkart.com/search?q=hard+disk&sid=6bo%2Cjdy%2Cnl6&as=on&as-show=on&otracker=AS_QueryStore_OrganicAutoSuggest_0_4_na_na_na&otracker1=AS_QueryStore_OrganicAutoSuggest_0_4_na_na_na&as-pos=0&as-type=RECENT&suggestionId=hard+disk%7CExternal+Hard+Disks&requestId=838cd286-4d0c-496c-b1b2-31aa26289579&as-searchtext=hard&page=4\n",
      "https://www.flipkart.com/search?q=hard+disk&sid=6bo%2Cjdy%2Cnl6&as=on&as-show=on&otracker=AS_QueryStore_OrganicAutoSuggest_0_4_na_na_na&otracker1=AS_QueryStore_OrganicAutoSuggest_0_4_na_na_na&as-pos=0&as-type=RECENT&suggestionId=hard+disk%7CExternal+Hard+Disks&requestId=838cd286-4d0c-496c-b1b2-31aa26289579&as-searchtext=hard&page=5\n",
      "https://www.flipkart.com/search?q=hard+disk&sid=6bo%2Cjdy%2Cnl6&as=on&as-show=on&otracker=AS_QueryStore_OrganicAutoSuggest_0_4_na_na_na&otracker1=AS_QueryStore_OrganicAutoSuggest_0_4_na_na_na&as-pos=0&as-type=RECENT&suggestionId=hard+disk%7CExternal+Hard+Disks&requestId=838cd286-4d0c-496c-b1b2-31aa26289579&as-searchtext=hard&page=6\n",
      "https://www.flipkart.com/search?q=hard+disk&sid=6bo%2Cjdy%2Cnl6&as=on&as-show=on&otracker=AS_QueryStore_OrganicAutoSuggest_0_4_na_na_na&otracker1=AS_QueryStore_OrganicAutoSuggest_0_4_na_na_na&as-pos=0&as-type=RECENT&suggestionId=hard+disk%7CExternal+Hard+Disks&requestId=838cd286-4d0c-496c-b1b2-31aa26289579&as-searchtext=hard&page=7\n"
     ]
    }
   ],
   "source": [
    "## 8 pages for harddisk\n",
    "for n in range(0,8):\n",
    "    url = url_h+str(n)\n",
    "    print(url)\n",
    "    uclient = Ureq(url)\n",
    "    # open url and store it into uclient\n",
    "    page = uclient.read()  #read url data and store into page\n",
    "    save_data(page)\n",
    "    #time.sleep(30)\n",
    "uclient.close() #close the uclient \n",
    "file.close()"
   ]
  },
  {
   "cell_type": "code",
   "execution_count": null,
   "metadata": {},
   "outputs": [],
   "source": []
  }
 ],
 "metadata": {
  "kernelspec": {
   "display_name": "Python 3",
   "language": "python",
   "name": "python3"
  },
  "language_info": {
   "codemirror_mode": {
    "name": "ipython",
    "version": 3
   },
   "file_extension": ".py",
   "mimetype": "text/x-python",
   "name": "python",
   "nbconvert_exporter": "python",
   "pygments_lexer": "ipython3",
   "version": "3.8.1"
  }
 },
 "nbformat": 4,
 "nbformat_minor": 2
}
